{
  "nbformat": 4,
  "nbformat_minor": 0,
  "metadata": {
    "colab": {
      "name": "Sentiment_Analysis.ipynb",
      "provenance": [],
      "collapsed_sections": [],
      "include_colab_link": true
    },
    "kernelspec": {
      "name": "python3",
      "display_name": "Python 3"
    }
  },
  "cells": [
    {
      "cell_type": "markdown",
      "metadata": {
        "id": "view-in-github",
        "colab_type": "text"
      },
      "source": [
        "<a href=\"https://colab.research.google.com/github/darshan12x/projects/blob/mainbranch/Sentiment_Analysis.ipynb\" target=\"_parent\"><img src=\"https://colab.research.google.com/assets/colab-badge.svg\" alt=\"Open In Colab\"/></a>"
      ]
    },
    {
      "cell_type": "code",
      "metadata": {
        "id": "VldzdttbGRT6",
        "colab_type": "code",
        "colab": {
          "base_uri": "https://localhost:8080/",
          "height": 54
        },
        "outputId": "48f7f757-f44f-47e7-96ae-ff9da14e47ff"
      },
      "source": [
        "import tweepy\n",
        "import pandas as pd\n",
        "from nltk.sentiment.vader import SentimentIntensityAnalyzer\n",
        "import re\n",
        "import numpy as np \n",
        "import matplotlib.pyplot as plt \n",
        "import string\n",
        "import nltk\n",
        "import warnings\n",
        "import seaborn as sns\n",
        "warnings.filterwarnings(\"ignore\", category=DeprecationWarning)\n",
        "nltk.download('vader_lexicon')\n",
        "\n",
        "%matplotlib inline"
      ],
      "execution_count": 46,
      "outputs": [
        {
          "output_type": "stream",
          "text": [
            "[nltk_data] Downloading package vader_lexicon to /root/nltk_data...\n",
            "[nltk_data]   Package vader_lexicon is already up-to-date!\n"
          ],
          "name": "stdout"
        }
      ]
    },
    {
      "cell_type": "code",
      "metadata": {
        "id": "xoeDu5guGo-N",
        "colab_type": "code",
        "colab": {
          "base_uri": "https://localhost:8080/",
          "height": 363
        },
        "outputId": "26612f9e-27f2-44f2-8e5c-bfb60c77b57f"
      },
      "source": [
        "#My Twitter API Authentication Variables\n",
        "consumer_key = 'VTgswlznw8Dzbj42HaL98NOAs'\n",
        "consumer_secret = 'QDR7gDKuUzc6T2I6R96FZ449GdWXNrELrcAdK8S1GZEutd0DTp'\n",
        "access_token = '957181535483908096-GdXFwmb1AFa0gmkhNwsDChpIOw2OY8r'\n",
        "access_token_secret = '1VouYOsjd9TVK0cMksF4yHqZU3UOVTzg8KSxH2VtnAj9c'\n",
        "\n",
        "auth = tweepy.OAuthHandler(consumer_key, consumer_secret)\n",
        "auth.set_access_token(access_token, access_token_secret)\n",
        "\n",
        "api = tweepy.API(auth)\n",
        "tweets = api.search('Irfan Khan', count=200)\n",
        "\n",
        "data = pd.DataFrame(data=[tweet.text for tweet in tweets], columns=['Tweets'])\n",
        "\n",
        "display(data.head(10))"
      ],
      "execution_count": 39,
      "outputs": [
        {
          "output_type": "display_data",
          "data": {
            "text/html": [
              "<div>\n",
              "<style scoped>\n",
              "    .dataframe tbody tr th:only-of-type {\n",
              "        vertical-align: middle;\n",
              "    }\n",
              "\n",
              "    .dataframe tbody tr th {\n",
              "        vertical-align: top;\n",
              "    }\n",
              "\n",
              "    .dataframe thead th {\n",
              "        text-align: right;\n",
              "    }\n",
              "</style>\n",
              "<table border=\"1\" class=\"dataframe\">\n",
              "  <thead>\n",
              "    <tr style=\"text-align: right;\">\n",
              "      <th></th>\n",
              "      <th>Tweets</th>\n",
              "    </tr>\n",
              "  </thead>\n",
              "  <tbody>\n",
              "    <tr>\n",
              "      <th>0</th>\n",
              "      <td>You fought till your last breathe......\\nI can...</td>\n",
              "    </tr>\n",
              "    <tr>\n",
              "      <th>1</th>\n",
              "      <td>RT @sambitswaraj: Such a sad sad news of Actor...</td>\n",
              "    </tr>\n",
              "    <tr>\n",
              "      <th>2</th>\n",
              "      <td>RT @ZiyaKha37986767: No other Bollywood actor’...</td>\n",
              "    </tr>\n",
              "    <tr>\n",
              "      <th>3</th>\n",
              "      <td>Going To Miss This Voice Badly! This Message O...</td>\n",
              "    </tr>\n",
              "    <tr>\n",
              "      <th>4</th>\n",
              "      <td>RT @MaulickKajal: Irfan Khan, wo shakhs jisne ...</td>\n",
              "    </tr>\n",
              "    <tr>\n",
              "      <th>5</th>\n",
              "      <td>Rest easy Irfan Khan. You will be remembered a...</td>\n",
              "    </tr>\n",
              "    <tr>\n",
              "      <th>6</th>\n",
              "      <td>RIP Irfan khan ...we miss you.@KapilSharmaK9 @...</td>\n",
              "    </tr>\n",
              "    <tr>\n",
              "      <th>7</th>\n",
              "      <td>Irfan khan died in age 54 check all details he...</td>\n",
              "    </tr>\n",
              "    <tr>\n",
              "      <th>8</th>\n",
              "      <td>RT @PrakashJavdekar: Irfan Khan was a versatil...</td>\n",
              "    </tr>\n",
              "    <tr>\n",
              "      <th>9</th>\n",
              "      <td>RT @dhruv_rathee: Heartbreaking to hear about ...</td>\n",
              "    </tr>\n",
              "  </tbody>\n",
              "</table>\n",
              "</div>"
            ],
            "text/plain": [
              "                                              Tweets\n",
              "0  You fought till your last breathe......\\nI can...\n",
              "1  RT @sambitswaraj: Such a sad sad news of Actor...\n",
              "2  RT @ZiyaKha37986767: No other Bollywood actor’...\n",
              "3  Going To Miss This Voice Badly! This Message O...\n",
              "4  RT @MaulickKajal: Irfan Khan, wo shakhs jisne ...\n",
              "5  Rest easy Irfan Khan. You will be remembered a...\n",
              "6  RIP Irfan khan ...we miss you.@KapilSharmaK9 @...\n",
              "7  Irfan khan died in age 54 check all details he...\n",
              "8  RT @PrakashJavdekar: Irfan Khan was a versatil...\n",
              "9  RT @dhruv_rathee: Heartbreaking to hear about ..."
            ]
          },
          "metadata": {
            "tags": []
          }
        }
      ]
    },
    {
      "cell_type": "code",
      "metadata": {
        "id": "-TjWwT_v34S-",
        "colab_type": "code",
        "colab": {
          "base_uri": "https://localhost:8080/",
          "height": 363
        },
        "outputId": "aa5af27f-daff-4384-e16c-77b31314b96e"
      },
      "source": [
        "# tidy up tweets\n",
        "def remove_pattern(input_txt, pattern):\n",
        "    r = re.findall(pattern, input_txt)\n",
        "    for i in r:\n",
        "        input_txt = re.sub(i, '', input_txt)\n",
        "        \n",
        "    return input_txt\n",
        "\n",
        "# remove twitter handles (@user)\n",
        "data['tidy_tweet'] = np.vectorize(remove_pattern)(data['Tweets'], \"@[\\w]*\")\n",
        "\n",
        "# remove special characters, numbers, punctuations\n",
        "data['tidy_tweet'] = data['tidy_tweet'].str.replace(\"[^a-zA-Z#]\", \" \")\n",
        "\n",
        "# removing short words\n",
        "data['tidy_tweet'] = data['tidy_tweet'].apply(lambda x: ' '.join([w for w in x.split() if len(w)>2]))\n",
        "\n",
        "display(data.head(10))"
      ],
      "execution_count": 49,
      "outputs": [
        {
          "output_type": "display_data",
          "data": {
            "text/html": [
              "<div>\n",
              "<style scoped>\n",
              "    .dataframe tbody tr th:only-of-type {\n",
              "        vertical-align: middle;\n",
              "    }\n",
              "\n",
              "    .dataframe tbody tr th {\n",
              "        vertical-align: top;\n",
              "    }\n",
              "\n",
              "    .dataframe thead th {\n",
              "        text-align: right;\n",
              "    }\n",
              "</style>\n",
              "<table border=\"1\" class=\"dataframe\">\n",
              "  <thead>\n",
              "    <tr style=\"text-align: right;\">\n",
              "      <th></th>\n",
              "      <th>Tweets</th>\n",
              "      <th>tidy_tweet</th>\n",
              "      <th>polarity</th>\n",
              "    </tr>\n",
              "  </thead>\n",
              "  <tbody>\n",
              "    <tr>\n",
              "      <th>0</th>\n",
              "      <td>You fought till your last breathe......\\nI can...</td>\n",
              "      <td>You fought till your last breathe cant think m...</td>\n",
              "      <td>{'neg': 0.15, 'neu': 0.85, 'pos': 0.0, 'compou...</td>\n",
              "    </tr>\n",
              "    <tr>\n",
              "      <th>1</th>\n",
              "      <td>RT @sambitswaraj: Such a sad sad news of Actor...</td>\n",
              "      <td>Such sad sad news Actor Irfan Khan passing awa...</td>\n",
              "      <td>{'neg': 0.0, 'neu': 0.638, 'pos': 0.362, 'comp...</td>\n",
              "    </tr>\n",
              "    <tr>\n",
              "      <th>2</th>\n",
              "      <td>RT @ZiyaKha37986767: No other Bollywood actor’...</td>\n",
              "      <td>other Bollywood actor passing away has pained ...</td>\n",
              "      <td>{'neg': 0.177, 'neu': 0.823, 'pos': 0.0, 'comp...</td>\n",
              "    </tr>\n",
              "    <tr>\n",
              "      <th>3</th>\n",
              "      <td>Going To Miss This Voice Badly! This Message O...</td>\n",
              "      <td>Going Miss This Voice Badly This Message him W...</td>\n",
              "      <td>{'neg': 0.257, 'neu': 0.547, 'pos': 0.196, 'co...</td>\n",
              "    </tr>\n",
              "    <tr>\n",
              "      <th>4</th>\n",
              "      <td>RT @MaulickKajal: Irfan Khan, wo shakhs jisne ...</td>\n",
              "      <td>Irfan Khan shakhs jisne maulanaon bataya qurba...</td>\n",
              "      <td>{'neg': 0.0, 'neu': 1.0, 'pos': 0.0, 'compound...</td>\n",
              "    </tr>\n",
              "    <tr>\n",
              "      <th>5</th>\n",
              "      <td>Rest easy Irfan Khan. You will be remembered a...</td>\n",
              "      <td>Rest easy Irfan Khan You will remembered amazi...</td>\n",
              "      <td>{'neg': 0.0, 'neu': 0.573, 'pos': 0.427, 'comp...</td>\n",
              "    </tr>\n",
              "    <tr>\n",
              "      <th>6</th>\n",
              "      <td>RIP Irfan khan ...we miss you.@KapilSharmaK9 @...</td>\n",
              "      <td>RIP Irfan khan miss you</td>\n",
              "      <td>{'neg': 0.444, 'neu': 0.556, 'pos': 0.0, 'comp...</td>\n",
              "    </tr>\n",
              "    <tr>\n",
              "      <th>7</th>\n",
              "      <td>Irfan khan died in age 54 check all details he...</td>\n",
              "      <td>Irfan khan died age check all details here htt...</td>\n",
              "      <td>{'neg': 0.31, 'neu': 0.69, 'pos': 0.0, 'compou...</td>\n",
              "    </tr>\n",
              "    <tr>\n",
              "      <th>8</th>\n",
              "      <td>RT @PrakashJavdekar: Irfan Khan was a versatil...</td>\n",
              "      <td>Irfan Khan was versatile actor Sorry hear abou...</td>\n",
              "      <td>{'neg': 0.077, 'neu': 0.533, 'pos': 0.391, 'co...</td>\n",
              "    </tr>\n",
              "    <tr>\n",
              "      <th>9</th>\n",
              "      <td>RT @dhruv_rathee: Heartbreaking to hear about ...</td>\n",
              "      <td>Heartbreaking hear about Irfan Khan death was ...</td>\n",
              "      <td>{'neg': 0.314, 'neu': 0.364, 'pos': 0.323, 'co...</td>\n",
              "    </tr>\n",
              "  </tbody>\n",
              "</table>\n",
              "</div>"
            ],
            "text/plain": [
              "                                              Tweets  ...                                           polarity\n",
              "0  You fought till your last breathe......\\nI can...  ...  {'neg': 0.15, 'neu': 0.85, 'pos': 0.0, 'compou...\n",
              "1  RT @sambitswaraj: Such a sad sad news of Actor...  ...  {'neg': 0.0, 'neu': 0.638, 'pos': 0.362, 'comp...\n",
              "2  RT @ZiyaKha37986767: No other Bollywood actor’...  ...  {'neg': 0.177, 'neu': 0.823, 'pos': 0.0, 'comp...\n",
              "3  Going To Miss This Voice Badly! This Message O...  ...  {'neg': 0.257, 'neu': 0.547, 'pos': 0.196, 'co...\n",
              "4  RT @MaulickKajal: Irfan Khan, wo shakhs jisne ...  ...  {'neg': 0.0, 'neu': 1.0, 'pos': 0.0, 'compound...\n",
              "5  Rest easy Irfan Khan. You will be remembered a...  ...  {'neg': 0.0, 'neu': 0.573, 'pos': 0.427, 'comp...\n",
              "6  RIP Irfan khan ...we miss you.@KapilSharmaK9 @...  ...  {'neg': 0.444, 'neu': 0.556, 'pos': 0.0, 'comp...\n",
              "7  Irfan khan died in age 54 check all details he...  ...  {'neg': 0.31, 'neu': 0.69, 'pos': 0.0, 'compou...\n",
              "8  RT @PrakashJavdekar: Irfan Khan was a versatil...  ...  {'neg': 0.077, 'neu': 0.533, 'pos': 0.391, 'co...\n",
              "9  RT @dhruv_rathee: Heartbreaking to hear about ...  ...  {'neg': 0.314, 'neu': 0.364, 'pos': 0.323, 'co...\n",
              "\n",
              "[10 rows x 3 columns]"
            ]
          },
          "metadata": {
            "tags": []
          }
        }
      ]
    },
    {
      "cell_type": "code",
      "metadata": {
        "id": "MjOtgC9t8veN",
        "colab_type": "code",
        "colab": {
          "base_uri": "https://localhost:8080/",
          "height": 423
        },
        "outputId": "517002a0-ae81-4a72-f880-04fe6794e500"
      },
      "source": [
        "sid = SentimentIntensityAnalyzer()\n",
        "listy = []\n",
        "\n",
        "for index, row in data.iterrows():\n",
        "  ss = sid.polarity_scores(row[\"tidy_tweet\"])\n",
        "  listy.append(ss)\n",
        "  \n",
        "se = pd.Series(listy)\n",
        "data['polarity'] = se.values\n",
        "\n",
        "display(data.head(100))"
      ],
      "execution_count": 50,
      "outputs": [
        {
          "output_type": "display_data",
          "data": {
            "text/html": [
              "<div>\n",
              "<style scoped>\n",
              "    .dataframe tbody tr th:only-of-type {\n",
              "        vertical-align: middle;\n",
              "    }\n",
              "\n",
              "    .dataframe tbody tr th {\n",
              "        vertical-align: top;\n",
              "    }\n",
              "\n",
              "    .dataframe thead th {\n",
              "        text-align: right;\n",
              "    }\n",
              "</style>\n",
              "<table border=\"1\" class=\"dataframe\">\n",
              "  <thead>\n",
              "    <tr style=\"text-align: right;\">\n",
              "      <th></th>\n",
              "      <th>Tweets</th>\n",
              "      <th>tidy_tweet</th>\n",
              "      <th>polarity</th>\n",
              "    </tr>\n",
              "  </thead>\n",
              "  <tbody>\n",
              "    <tr>\n",
              "      <th>0</th>\n",
              "      <td>You fought till your last breathe......\\nI can...</td>\n",
              "      <td>You fought till your last breathe cant think m...</td>\n",
              "      <td>{'neg': 0.108, 'neu': 0.892, 'pos': 0.0, 'comp...</td>\n",
              "    </tr>\n",
              "    <tr>\n",
              "      <th>1</th>\n",
              "      <td>RT @sambitswaraj: Such a sad sad news of Actor...</td>\n",
              "      <td>Such sad sad news Actor Irfan Khan passing awa...</td>\n",
              "      <td>{'neg': 0.221, 'neu': 0.536, 'pos': 0.243, 'co...</td>\n",
              "    </tr>\n",
              "    <tr>\n",
              "      <th>2</th>\n",
              "      <td>RT @ZiyaKha37986767: No other Bollywood actor’...</td>\n",
              "      <td>other Bollywood actor passing away has pained ...</td>\n",
              "      <td>{'neg': 0.149, 'neu': 0.851, 'pos': 0.0, 'comp...</td>\n",
              "    </tr>\n",
              "    <tr>\n",
              "      <th>3</th>\n",
              "      <td>Going To Miss This Voice Badly! This Message O...</td>\n",
              "      <td>Going Miss This Voice Badly This Message him W...</td>\n",
              "      <td>{'neg': 0.221, 'neu': 0.611, 'pos': 0.169, 'co...</td>\n",
              "    </tr>\n",
              "    <tr>\n",
              "      <th>4</th>\n",
              "      <td>RT @MaulickKajal: Irfan Khan, wo shakhs jisne ...</td>\n",
              "      <td>Irfan Khan shakhs jisne maulanaon bataya qurba...</td>\n",
              "      <td>{'neg': 0.0, 'neu': 1.0, 'pos': 0.0, 'compound...</td>\n",
              "    </tr>\n",
              "    <tr>\n",
              "      <th>...</th>\n",
              "      <td>...</td>\n",
              "      <td>...</td>\n",
              "      <td>...</td>\n",
              "    </tr>\n",
              "    <tr>\n",
              "      <th>95</th>\n",
              "      <td>Biggest Lost Of Indian Film Industry\\nRIP Irfa...</td>\n",
              "      <td>Biggest Lost Indian Film Industry RIP Irfan Kh...</td>\n",
              "      <td>{'neg': 0.187, 'neu': 0.813, 'pos': 0.0, 'comp...</td>\n",
              "    </tr>\n",
              "    <tr>\n",
              "      <th>96</th>\n",
              "      <td>Irfan Khan, an actor par excellence, May God r...</td>\n",
              "      <td>Irfan Khan actor par excellence May God rest h...</td>\n",
              "      <td>{'neg': 0.0, 'neu': 0.452, 'pos': 0.548, 'comp...</td>\n",
              "    </tr>\n",
              "    <tr>\n",
              "      <th>97</th>\n",
              "      <td>RT @sambitswaraj: Such a sad sad news of Actor...</td>\n",
              "      <td>Such sad sad news Actor Irfan Khan passing awa...</td>\n",
              "      <td>{'neg': 0.221, 'neu': 0.536, 'pos': 0.243, 'co...</td>\n",
              "    </tr>\n",
              "    <tr>\n",
              "      <th>98</th>\n",
              "      <td>R.I.P Irfan Khan\\nWorld will remember you as l...</td>\n",
              "      <td>Irfan Khan World will remember you legendary a...</td>\n",
              "      <td>{'neg': 0.101, 'neu': 0.746, 'pos': 0.154, 'co...</td>\n",
              "    </tr>\n",
              "    <tr>\n",
              "      <th>99</th>\n",
              "      <td>We are losse our most talented actor Irfan Kha...</td>\n",
              "      <td>are losse our most talented actor Irfan Khan RIP</td>\n",
              "      <td>{'neg': 0.0, 'neu': 0.69, 'pos': 0.31, 'compou...</td>\n",
              "    </tr>\n",
              "  </tbody>\n",
              "</table>\n",
              "<p>100 rows × 3 columns</p>\n",
              "</div>"
            ],
            "text/plain": [
              "                                               Tweets  ...                                           polarity\n",
              "0   You fought till your last breathe......\\nI can...  ...  {'neg': 0.108, 'neu': 0.892, 'pos': 0.0, 'comp...\n",
              "1   RT @sambitswaraj: Such a sad sad news of Actor...  ...  {'neg': 0.221, 'neu': 0.536, 'pos': 0.243, 'co...\n",
              "2   RT @ZiyaKha37986767: No other Bollywood actor’...  ...  {'neg': 0.149, 'neu': 0.851, 'pos': 0.0, 'comp...\n",
              "3   Going To Miss This Voice Badly! This Message O...  ...  {'neg': 0.221, 'neu': 0.611, 'pos': 0.169, 'co...\n",
              "4   RT @MaulickKajal: Irfan Khan, wo shakhs jisne ...  ...  {'neg': 0.0, 'neu': 1.0, 'pos': 0.0, 'compound...\n",
              "..                                                ...  ...                                                ...\n",
              "95  Biggest Lost Of Indian Film Industry\\nRIP Irfa...  ...  {'neg': 0.187, 'neu': 0.813, 'pos': 0.0, 'comp...\n",
              "96  Irfan Khan, an actor par excellence, May God r...  ...  {'neg': 0.0, 'neu': 0.452, 'pos': 0.548, 'comp...\n",
              "97  RT @sambitswaraj: Such a sad sad news of Actor...  ...  {'neg': 0.221, 'neu': 0.536, 'pos': 0.243, 'co...\n",
              "98  R.I.P Irfan Khan\\nWorld will remember you as l...  ...  {'neg': 0.101, 'neu': 0.746, 'pos': 0.154, 'co...\n",
              "99  We are losse our most talented actor Irfan Kha...  ...  {'neg': 0.0, 'neu': 0.69, 'pos': 0.31, 'compou...\n",
              "\n",
              "[100 rows x 3 columns]"
            ]
          },
          "metadata": {
            "tags": []
          }
        }
      ]
    },
    {
      "cell_type": "code",
      "metadata": {
        "id": "ozERQPypw5rd",
        "colab_type": "code",
        "colab": {
          "base_uri": "https://localhost:8080/",
          "height": 129
        },
        "outputId": "4a1f4153-9576-40c3-faec-6513e4c82d4d"
      },
      "source": [
        "#  tokenize all the cleaned tweets in our dataset\n",
        "tokenized_tweet = data['tidy_tweet'].apply(lambda x: x.split())\n",
        "\n",
        "tokenized_tweet.head()"
      ],
      "execution_count": 44,
      "outputs": [
        {
          "output_type": "execute_result",
          "data": {
            "text/plain": [
              "0    [fought, till, your, last, breathe, cant, thin...\n",
              "1    [Such, news, Actor, Irfan, Khan, passing, away...\n",
              "2    [other, Bollywood, actor, passing, away, paine...\n",
              "3    [Going, Miss, This, Voice, Badly, This, Messag...\n",
              "4    [Irfan, Khan, shakhs, jisne, maulanaon, bataya...\n",
              "Name: tidy_tweet, dtype: object"
            ]
          },
          "metadata": {
            "tags": []
          },
          "execution_count": 44
        }
      ]
    },
    {
      "cell_type": "code",
      "metadata": {
        "id": "kQiYGQEqIZ3w",
        "colab_type": "code",
        "outputId": "4787d0bd-4591-414b-b24c-654afa17bd03",
        "colab": {
          "base_uri": "https://localhost:8080/",
          "height": 423
        }
      },
      "source": [
        ""
      ],
      "execution_count": 7,
      "outputs": [
        {
          "output_type": "display_data",
          "data": {
            "text/html": [
              "<div>\n",
              "<style scoped>\n",
              "    .dataframe tbody tr th:only-of-type {\n",
              "        vertical-align: middle;\n",
              "    }\n",
              "\n",
              "    .dataframe tbody tr th {\n",
              "        vertical-align: top;\n",
              "    }\n",
              "\n",
              "    .dataframe thead th {\n",
              "        text-align: right;\n",
              "    }\n",
              "</style>\n",
              "<table border=\"1\" class=\"dataframe\">\n",
              "  <thead>\n",
              "    <tr style=\"text-align: right;\">\n",
              "      <th></th>\n",
              "      <th>Tweets</th>\n",
              "      <th>polarity</th>\n",
              "    </tr>\n",
              "  </thead>\n",
              "  <tbody>\n",
              "    <tr>\n",
              "      <th>0</th>\n",
              "      <td>Agar koi struggle ke baare mei pooche toh Iss ...</td>\n",
              "      <td>{'neg': 0.113, 'neu': 0.887, 'pos': 0.0, 'comp...</td>\n",
              "    </tr>\n",
              "    <tr>\n",
              "      <th>1</th>\n",
              "      <td>@DrKumarVishwas Miss you irfan khan , RIP</td>\n",
              "      <td>{'neg': 0.242, 'neu': 0.758, 'pos': 0.0, 'comp...</td>\n",
              "    </tr>\n",
              "    <tr>\n",
              "      <th>2</th>\n",
              "      <td>RT @ChetanT83136561: Irfan khan is no more🙏RIP...</td>\n",
              "      <td>{'neg': 0.196, 'neu': 0.804, 'pos': 0.0, 'comp...</td>\n",
              "    </tr>\n",
              "    <tr>\n",
              "      <th>3</th>\n",
              "      <td>Irfan khan passes away Rest in peace 🙏</td>\n",
              "      <td>{'neg': 0.0, 'neu': 0.632, 'pos': 0.368, 'comp...</td>\n",
              "    </tr>\n",
              "    <tr>\n",
              "      <th>4</th>\n",
              "      <td>It's sad to hear the passing away of Irfan Kha...</td>\n",
              "      <td>{'neg': 0.129, 'neu': 0.871, 'pos': 0.0, 'comp...</td>\n",
              "    </tr>\n",
              "    <tr>\n",
              "      <th>...</th>\n",
              "      <td>...</td>\n",
              "      <td>...</td>\n",
              "    </tr>\n",
              "    <tr>\n",
              "      <th>95</th>\n",
              "      <td>RT @lightsupx1d: He was such a talented person...</td>\n",
              "      <td>{'neg': 0.0, 'neu': 0.764, 'pos': 0.236, 'comp...</td>\n",
              "    </tr>\n",
              "    <tr>\n",
              "      <th>96</th>\n",
              "      <td>@SrBachchan Will miss you Irfan khan.</td>\n",
              "      <td>{'neg': 0.242, 'neu': 0.758, 'pos': 0.0, 'comp...</td>\n",
              "    </tr>\n",
              "    <tr>\n",
              "      <th>97</th>\n",
              "      <td>#IrrfanKhan R.I.P IRFAN KHAN .BHAGWAN AAPKI AA...</td>\n",
              "      <td>{'neg': 0.0, 'neu': 1.0, 'pos': 0.0, 'compound...</td>\n",
              "    </tr>\n",
              "    <tr>\n",
              "      <th>98</th>\n",
              "      <td>Extremely shocking to hear about passing away ...</td>\n",
              "      <td>{'neg': 0.289, 'neu': 0.711, 'pos': 0.0, 'comp...</td>\n",
              "    </tr>\n",
              "    <tr>\n",
              "      <th>99</th>\n",
              "      <td>Amidst all the Corona Pandemic...Cancer took a...</td>\n",
              "      <td>{'neg': 0.0, 'neu': 0.814, 'pos': 0.186, 'comp...</td>\n",
              "    </tr>\n",
              "  </tbody>\n",
              "</table>\n",
              "<p>100 rows × 2 columns</p>\n",
              "</div>"
            ],
            "text/plain": [
              "                                               Tweets                                           polarity\n",
              "0   Agar koi struggle ke baare mei pooche toh Iss ...  {'neg': 0.113, 'neu': 0.887, 'pos': 0.0, 'comp...\n",
              "1           @DrKumarVishwas Miss you irfan khan , RIP  {'neg': 0.242, 'neu': 0.758, 'pos': 0.0, 'comp...\n",
              "2   RT @ChetanT83136561: Irfan khan is no more🙏RIP...  {'neg': 0.196, 'neu': 0.804, 'pos': 0.0, 'comp...\n",
              "3              Irfan khan passes away Rest in peace 🙏  {'neg': 0.0, 'neu': 0.632, 'pos': 0.368, 'comp...\n",
              "4   It's sad to hear the passing away of Irfan Kha...  {'neg': 0.129, 'neu': 0.871, 'pos': 0.0, 'comp...\n",
              "..                                                ...                                                ...\n",
              "95  RT @lightsupx1d: He was such a talented person...  {'neg': 0.0, 'neu': 0.764, 'pos': 0.236, 'comp...\n",
              "96              @SrBachchan Will miss you Irfan khan.  {'neg': 0.242, 'neu': 0.758, 'pos': 0.0, 'comp...\n",
              "97  #IrrfanKhan R.I.P IRFAN KHAN .BHAGWAN AAPKI AA...  {'neg': 0.0, 'neu': 1.0, 'pos': 0.0, 'compound...\n",
              "98  Extremely shocking to hear about passing away ...  {'neg': 0.289, 'neu': 0.711, 'pos': 0.0, 'comp...\n",
              "99  Amidst all the Corona Pandemic...Cancer took a...  {'neg': 0.0, 'neu': 0.814, 'pos': 0.186, 'comp...\n",
              "\n",
              "[100 rows x 2 columns]"
            ]
          },
          "metadata": {
            "tags": []
          }
        }
      ]
    }
  ]
}