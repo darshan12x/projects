{
  "nbformat": 4,
  "nbformat_minor": 0,
  "metadata": {
    "colab": {
      "name": "Sentiment_Analysis.ipynb",
      "provenance": [],
      "collapsed_sections": [],
      "include_colab_link": true
    },
    "kernelspec": {
      "name": "python3",
      "display_name": "Python 3"
    }
  },
  "cells": [
    {
      "cell_type": "markdown",
      "metadata": {
        "id": "view-in-github",
        "colab_type": "text"
      },
      "source": [
        "<a href=\"https://colab.research.google.com/github/darshan12x/projects/blob/mainbranch/Sentiment_Analysis.ipynb\" target=\"_parent\"><img src=\"https://colab.research.google.com/assets/colab-badge.svg\" alt=\"Open In Colab\"/></a>"
      ]
    },
    {
      "cell_type": "code",
      "metadata": {
        "id": "peuspQZLQZGs",
        "colab_type": "code",
        "colab": {}
      },
      "source": [
        "import tweepy\n",
        "import pandas as pd\n",
        "from nltk.sentiment.vader import SentimentIntensityAnalyzer\n",
        "import re\n",
        "import numpy as np \n",
        "import matplotlib.pyplot as plt \n",
        "import string\n",
        "import nltk\n",
        "import warnings\n",
        "import seaborn as sns\n",
        "warnings.filterwarnings(\"ignore\", category=DeprecationWarning)\n",
        "nltk.download('vader_lexicon')\n",
        "\n",
        "%matplotlib inline"
      ],
      "execution_count": 0,
      "outputs": []
    },
    {
      "cell_type": "code",
      "metadata": {
        "id": "xoeDu5guGo-N",
        "colab_type": "code",
        "colab": {}
      },
      "source": [
        "#My Twitter API Authentication Variables\n",
        "consumer_key = ' '\n",
        "consumer_secret = ' '\n",
        "access_token = ' '\n",
        "access_token_secret = ' '\n",
        "\n",
        "auth = tweepy.OAuthHandler(consumer_key, consumer_secret)\n",
        "auth.set_access_token(access_token, access_token_secret)\n",
        "\n",
        "api = tweepy.API(auth)"
      ],
      "execution_count": 0,
      "outputs": []
    },
    {
      "cell_type": "code",
      "metadata": {
        "id": "Neq7K-zTAZOH",
        "colab_type": "code",
        "colab": {
          "base_uri": "https://localhost:8080/",
          "height": 363
        },
        "outputId": "bb480cef-aa6c-4152-a827-8acd5a376c05"
      },
      "source": [
        "tweets = api.search('Irfan Khan', count=200) # search term \n",
        "\n",
        "# 'iso_language_code': 'en'\n",
        "# 'location': ''\n",
        "# 'followers_count': 41\n",
        "# 'verified': False\n",
        "# 'retweeted': False\n",
        "\n",
        "data = pd.DataFrame(data=[tweet.text for tweet in tweets], columns=['Tweets'])\n",
        "\n",
        "display(data.head(10))"
      ],
      "execution_count": 98,
      "outputs": [
        {
          "output_type": "display_data",
          "data": {
            "text/html": [
              "<div>\n",
              "<style scoped>\n",
              "    .dataframe tbody tr th:only-of-type {\n",
              "        vertical-align: middle;\n",
              "    }\n",
              "\n",
              "    .dataframe tbody tr th {\n",
              "        vertical-align: top;\n",
              "    }\n",
              "\n",
              "    .dataframe thead th {\n",
              "        text-align: right;\n",
              "    }\n",
              "</style>\n",
              "<table border=\"1\" class=\"dataframe\">\n",
              "  <thead>\n",
              "    <tr style=\"text-align: right;\">\n",
              "      <th></th>\n",
              "      <th>Tweets</th>\n",
              "    </tr>\n",
              "  </thead>\n",
              "  <tbody>\n",
              "    <tr>\n",
              "      <th>0</th>\n",
              "      <td>RT @TheSquind: Na Fateha na Darood means you w...</td>\n",
              "    </tr>\n",
              "    <tr>\n",
              "      <th>1</th>\n",
              "      <td>RT @YUVSTRONG12: I know the journey I know the...</td>\n",
              "    </tr>\n",
              "    <tr>\n",
              "      <th>2</th>\n",
              "      <td>RIP IRFAN KHAN. 🙏\\nSADDENED BY THE NEWS 😥 http...</td>\n",
              "    </tr>\n",
              "    <tr>\n",
              "      <th>3</th>\n",
              "      <td>RT @ZairaWasimmm: Platelets required for a 21 ...</td>\n",
              "    </tr>\n",
              "    <tr>\n",
              "      <th>4</th>\n",
              "      <td>RT @KhanSahiba01: R.I.P😔💔... Today's irfan kha...</td>\n",
              "    </tr>\n",
              "    <tr>\n",
              "      <th>5</th>\n",
              "      <td>May Allah bless your soul, Sir. Rest in Love, ...</td>\n",
              "    </tr>\n",
              "    <tr>\n",
              "      <th>6</th>\n",
              "      <td>वैसे तो दुनिया में आते हैं सब मरने के लिए\\nअसल...</td>\n",
              "    </tr>\n",
              "    <tr>\n",
              "      <th>7</th>\n",
              "      <td>You'll be missed Sir 😓\\nYou'll forever remain ...</td>\n",
              "    </tr>\n",
              "    <tr>\n",
              "      <th>8</th>\n",
              "      <td>RT @AmitShah: Anguished over the sad news of I...</td>\n",
              "    </tr>\n",
              "    <tr>\n",
              "      <th>9</th>\n",
              "      <td>RT @YUVSTRONG12: I know the journey I know the...</td>\n",
              "    </tr>\n",
              "  </tbody>\n",
              "</table>\n",
              "</div>"
            ],
            "text/plain": [
              "                                              Tweets\n",
              "0  RT @TheSquind: Na Fateha na Darood means you w...\n",
              "1  RT @YUVSTRONG12: I know the journey I know the...\n",
              "2  RIP IRFAN KHAN. 🙏\\nSADDENED BY THE NEWS 😥 http...\n",
              "3  RT @ZairaWasimmm: Platelets required for a 21 ...\n",
              "4  RT @KhanSahiba01: R.I.P😔💔... Today's irfan kha...\n",
              "5  May Allah bless your soul, Sir. Rest in Love, ...\n",
              "6  वैसे तो दुनिया में आते हैं सब मरने के लिए\\nअसल...\n",
              "7  You'll be missed Sir 😓\\nYou'll forever remain ...\n",
              "8  RT @AmitShah: Anguished over the sad news of I...\n",
              "9  RT @YUVSTRONG12: I know the journey I know the..."
            ]
          },
          "metadata": {
            "tags": []
          }
        }
      ]
    },
    {
      "cell_type": "code",
      "metadata": {
        "id": "-TjWwT_v34S-",
        "colab_type": "code",
        "colab": {
          "base_uri": "https://localhost:8080/",
          "height": 363
        },
        "outputId": "a9a49307-518b-49ba-d580-d387131e7f29"
      },
      "source": [
        "# tidy up tweets\n",
        "def remove_pattern(input_txt, pattern):\n",
        "    r = re.findall(pattern, input_txt)\n",
        "    for i in r:\n",
        "        input_txt = re.sub(i, '', input_txt)\n",
        "        \n",
        "    return input_txt\n",
        "\n",
        "# remove twitter handles (@user)\n",
        "data['tidy_tweet'] = np.vectorize(remove_pattern)(data['Tweets'], \"@[\\w]*\")\n",
        "\n",
        "# remove links\n",
        "data['tidy_tweet'] = np.vectorize(remove_pattern)(data['tidy_tweet'],\"(\\w+:\\/\\/\\S+)\")\n",
        "\n",
        "# remove special characters, numbers, punctuations\n",
        "data['tidy_tweet'] = data['tidy_tweet'].str.replace(\"([^0-9A-Za-z \\t])\", \" \")\n",
        "\n",
        "# removing short words\n",
        "data['tidy_tweet'] = data['tidy_tweet'].apply(lambda x: ' '.join([w for w in x.split() if len(w)>2]))\n",
        "\n",
        "display(data.head(10))"
      ],
      "execution_count": 99,
      "outputs": [
        {
          "output_type": "display_data",
          "data": {
            "text/html": [
              "<div>\n",
              "<style scoped>\n",
              "    .dataframe tbody tr th:only-of-type {\n",
              "        vertical-align: middle;\n",
              "    }\n",
              "\n",
              "    .dataframe tbody tr th {\n",
              "        vertical-align: top;\n",
              "    }\n",
              "\n",
              "    .dataframe thead th {\n",
              "        text-align: right;\n",
              "    }\n",
              "</style>\n",
              "<table border=\"1\" class=\"dataframe\">\n",
              "  <thead>\n",
              "    <tr style=\"text-align: right;\">\n",
              "      <th></th>\n",
              "      <th>Tweets</th>\n",
              "      <th>tidy_tweet</th>\n",
              "    </tr>\n",
              "  </thead>\n",
              "  <tbody>\n",
              "    <tr>\n",
              "      <th>0</th>\n",
              "      <td>RT @TheSquind: Na Fateha na Darood means you w...</td>\n",
              "      <td>Fateha Darood means you won get peace Hell wai...</td>\n",
              "    </tr>\n",
              "    <tr>\n",
              "      <th>1</th>\n",
              "      <td>RT @YUVSTRONG12: I know the journey I know the...</td>\n",
              "      <td>know the journey know the pain and know fought...</td>\n",
              "    </tr>\n",
              "    <tr>\n",
              "      <th>2</th>\n",
              "      <td>RIP IRFAN KHAN. 🙏\\nSADDENED BY THE NEWS 😥 http...</td>\n",
              "      <td>RIP IRFAN KHAN SADDENED THE NEWS</td>\n",
              "    </tr>\n",
              "    <tr>\n",
              "      <th>3</th>\n",
              "      <td>RT @ZairaWasimmm: Platelets required for a 21 ...</td>\n",
              "      <td>Platelets required for year old lady suffering...</td>\n",
              "    </tr>\n",
              "    <tr>\n",
              "      <th>4</th>\n",
              "      <td>RT @KhanSahiba01: R.I.P😔💔... Today's irfan kha...</td>\n",
              "      <td>Today irfan khan more Allah pak irfan khan mag...</td>\n",
              "    </tr>\n",
              "    <tr>\n",
              "      <th>5</th>\n",
              "      <td>May Allah bless your soul, Sir. Rest in Love, ...</td>\n",
              "      <td>May Allah bless your soul Sir Rest Love Irfan ...</td>\n",
              "    </tr>\n",
              "    <tr>\n",
              "      <th>6</th>\n",
              "      <td>वैसे तो दुनिया में आते हैं सब मरने के लिए\\nअसल...</td>\n",
              "      <td>lines IrfanKhan RIP Irfan Khan</td>\n",
              "    </tr>\n",
              "    <tr>\n",
              "      <th>7</th>\n",
              "      <td>You'll be missed Sir 😓\\nYou'll forever remain ...</td>\n",
              "      <td>You missed Sir You forever remain our hearts R...</td>\n",
              "    </tr>\n",
              "    <tr>\n",
              "      <th>8</th>\n",
              "      <td>RT @AmitShah: Anguished over the sad news of I...</td>\n",
              "      <td>Anguished over the sad news Irfan Khan demise ...</td>\n",
              "    </tr>\n",
              "    <tr>\n",
              "      <th>9</th>\n",
              "      <td>RT @YUVSTRONG12: I know the journey I know the...</td>\n",
              "      <td>know the journey know the pain and know fought...</td>\n",
              "    </tr>\n",
              "  </tbody>\n",
              "</table>\n",
              "</div>"
            ],
            "text/plain": [
              "                                              Tweets                                         tidy_tweet\n",
              "0  RT @TheSquind: Na Fateha na Darood means you w...  Fateha Darood means you won get peace Hell wai...\n",
              "1  RT @YUVSTRONG12: I know the journey I know the...  know the journey know the pain and know fought...\n",
              "2  RIP IRFAN KHAN. 🙏\\nSADDENED BY THE NEWS 😥 http...                   RIP IRFAN KHAN SADDENED THE NEWS\n",
              "3  RT @ZairaWasimmm: Platelets required for a 21 ...  Platelets required for year old lady suffering...\n",
              "4  RT @KhanSahiba01: R.I.P😔💔... Today's irfan kha...  Today irfan khan more Allah pak irfan khan mag...\n",
              "5  May Allah bless your soul, Sir. Rest in Love, ...  May Allah bless your soul Sir Rest Love Irfan ...\n",
              "6  वैसे तो दुनिया में आते हैं सब मरने के लिए\\nअसल...                     lines IrfanKhan RIP Irfan Khan\n",
              "7  You'll be missed Sir 😓\\nYou'll forever remain ...  You missed Sir You forever remain our hearts R...\n",
              "8  RT @AmitShah: Anguished over the sad news of I...  Anguished over the sad news Irfan Khan demise ...\n",
              "9  RT @YUVSTRONG12: I know the journey I know the...  know the journey know the pain and know fought..."
            ]
          },
          "metadata": {
            "tags": []
          }
        }
      ]
    },
    {
      "cell_type": "code",
      "metadata": {
        "id": "qFhS8xErQPXu",
        "colab_type": "code",
        "colab": {}
      },
      "source": [
        "# Alternate func\n",
        "# regex to strips URL, punctuations, usernames and any non-alphanumeric chars. Also separates words with single space. \n",
        "\"\"\" \n",
        "def clean_tweet(tweet):\n",
        "  return ' '.join(re.sub(\"@[\\w]*|([^0-9A-Za-z \\t])|(\\w+:\\/\\/\\S+)\",\" \",tweet).split())\n",
        "\n",
        "data['tidy_tweet'] = pd.DataFrame(data=[clean_tweet(tweet.text) for tweet in tweets], columns=['Tweets'])\n",
        "data['tidy_tweet'] = data['tidy_tweet'].apply(lambda x: ' '.join([w for w in x.split() if len(w)>2]))\n",
        "display(data.head(10))\n",
        "\n",
        "\"\"\""
      ],
      "execution_count": 0,
      "outputs": []
    },
    {
      "cell_type": "code",
      "metadata": {
        "id": "MjOtgC9t8veN",
        "colab_type": "code",
        "colab": {
          "base_uri": "https://localhost:8080/",
          "height": 423
        },
        "outputId": "4be35fd6-ed2a-4561-919a-f5192b8173bc"
      },
      "source": [
        "sid = SentimentIntensityAnalyzer()\n",
        "listy = []\n",
        "\n",
        "for index, row in data.iterrows():\n",
        "  ss = sid.polarity_scores(row[\"tidy_tweet\"])\n",
        "  listy.append(ss)\n",
        "  \n",
        "se = pd.Series(listy)\n",
        "data['polarity'] = se.values\n",
        "\n",
        "display(data.head(100))"
      ],
      "execution_count": 101,
      "outputs": [
        {
          "output_type": "display_data",
          "data": {
            "text/html": [
              "<div>\n",
              "<style scoped>\n",
              "    .dataframe tbody tr th:only-of-type {\n",
              "        vertical-align: middle;\n",
              "    }\n",
              "\n",
              "    .dataframe tbody tr th {\n",
              "        vertical-align: top;\n",
              "    }\n",
              "\n",
              "    .dataframe thead th {\n",
              "        text-align: right;\n",
              "    }\n",
              "</style>\n",
              "<table border=\"1\" class=\"dataframe\">\n",
              "  <thead>\n",
              "    <tr style=\"text-align: right;\">\n",
              "      <th></th>\n",
              "      <th>Tweets</th>\n",
              "      <th>tidy_tweet</th>\n",
              "      <th>polarity</th>\n",
              "    </tr>\n",
              "  </thead>\n",
              "  <tbody>\n",
              "    <tr>\n",
              "      <th>0</th>\n",
              "      <td>RT @TheSquind: Na Fateha na Darood means you w...</td>\n",
              "      <td>Fateha Darood means you won get peace Hell wai...</td>\n",
              "      <td>{'neg': 0.165, 'neu': 0.576, 'pos': 0.259, 'co...</td>\n",
              "    </tr>\n",
              "    <tr>\n",
              "      <th>1</th>\n",
              "      <td>RT @YUVSTRONG12: I know the journey I know the...</td>\n",
              "      <td>know the journey know the pain and know fought...</td>\n",
              "      <td>{'neg': 0.202, 'neu': 0.614, 'pos': 0.184, 'co...</td>\n",
              "    </tr>\n",
              "    <tr>\n",
              "      <th>2</th>\n",
              "      <td>RIP IRFAN KHAN. 🙏\\nSADDENED BY THE NEWS 😥 http...</td>\n",
              "      <td>RIP IRFAN KHAN SADDENED THE NEWS</td>\n",
              "      <td>{'neg': 0.405, 'neu': 0.595, 'pos': 0.0, 'comp...</td>\n",
              "    </tr>\n",
              "    <tr>\n",
              "      <th>3</th>\n",
              "      <td>RT @ZairaWasimmm: Platelets required for a 21 ...</td>\n",
              "      <td>Platelets required for year old lady suffering...</td>\n",
              "      <td>{'neg': 0.171, 'neu': 0.829, 'pos': 0.0, 'comp...</td>\n",
              "    </tr>\n",
              "    <tr>\n",
              "      <th>4</th>\n",
              "      <td>RT @KhanSahiba01: R.I.P😔💔... Today's irfan kha...</td>\n",
              "      <td>Today irfan khan more Allah pak irfan khan mag...</td>\n",
              "      <td>{'neg': 0.0, 'neu': 1.0, 'pos': 0.0, 'compound...</td>\n",
              "    </tr>\n",
              "    <tr>\n",
              "      <th>...</th>\n",
              "      <td>...</td>\n",
              "      <td>...</td>\n",
              "      <td>...</td>\n",
              "    </tr>\n",
              "    <tr>\n",
              "      <th>95</th>\n",
              "      <td>RT @AmitShah: Anguished over the sad news of I...</td>\n",
              "      <td>Anguished over the sad news Irfan Khan demise ...</td>\n",
              "      <td>{'neg': 0.238, 'neu': 0.645, 'pos': 0.117, 'co...</td>\n",
              "    </tr>\n",
              "    <tr>\n",
              "      <th>96</th>\n",
              "      <td>RT @Boii_is_Lazy: Bollywood lost a Gem 💔\\nI am...</td>\n",
              "      <td>Bollywood lost Gem not his Die Hard fan but ca...</td>\n",
              "      <td>{'neg': 0.271, 'neu': 0.53, 'pos': 0.199, 'com...</td>\n",
              "    </tr>\n",
              "    <tr>\n",
              "      <th>97</th>\n",
              "      <td>@ShraddhaKapoor Irfan khan sir love u give pea...</td>\n",
              "      <td>Irfan khan sir love give peace the soul god</td>\n",
              "      <td>{'neg': 0.0, 'neu': 0.38, 'pos': 0.62, 'compou...</td>\n",
              "    </tr>\n",
              "    <tr>\n",
              "      <th>98</th>\n",
              "      <td>https://t.co/1hJssVNKCV Bollywood Hollywood St...</td>\n",
              "      <td>Bollywood Hollywood Star Irfan Khan More</td>\n",
              "      <td>{'neg': 0.0, 'neu': 1.0, 'pos': 0.0, 'compound...</td>\n",
              "    </tr>\n",
              "    <tr>\n",
              "      <th>99</th>\n",
              "      <td>RT @emraanhashmi: The first shot that I witnes...</td>\n",
              "      <td>The first shot that witnessed asst director wa...</td>\n",
              "      <td>{'neg': 0.0, 'neu': 0.765, 'pos': 0.235, 'comp...</td>\n",
              "    </tr>\n",
              "  </tbody>\n",
              "</table>\n",
              "<p>100 rows × 3 columns</p>\n",
              "</div>"
            ],
            "text/plain": [
              "                                               Tweets  ...                                           polarity\n",
              "0   RT @TheSquind: Na Fateha na Darood means you w...  ...  {'neg': 0.165, 'neu': 0.576, 'pos': 0.259, 'co...\n",
              "1   RT @YUVSTRONG12: I know the journey I know the...  ...  {'neg': 0.202, 'neu': 0.614, 'pos': 0.184, 'co...\n",
              "2   RIP IRFAN KHAN. 🙏\\nSADDENED BY THE NEWS 😥 http...  ...  {'neg': 0.405, 'neu': 0.595, 'pos': 0.0, 'comp...\n",
              "3   RT @ZairaWasimmm: Platelets required for a 21 ...  ...  {'neg': 0.171, 'neu': 0.829, 'pos': 0.0, 'comp...\n",
              "4   RT @KhanSahiba01: R.I.P😔💔... Today's irfan kha...  ...  {'neg': 0.0, 'neu': 1.0, 'pos': 0.0, 'compound...\n",
              "..                                                ...  ...                                                ...\n",
              "95  RT @AmitShah: Anguished over the sad news of I...  ...  {'neg': 0.238, 'neu': 0.645, 'pos': 0.117, 'co...\n",
              "96  RT @Boii_is_Lazy: Bollywood lost a Gem 💔\\nI am...  ...  {'neg': 0.271, 'neu': 0.53, 'pos': 0.199, 'com...\n",
              "97  @ShraddhaKapoor Irfan khan sir love u give pea...  ...  {'neg': 0.0, 'neu': 0.38, 'pos': 0.62, 'compou...\n",
              "98  https://t.co/1hJssVNKCV Bollywood Hollywood St...  ...  {'neg': 0.0, 'neu': 1.0, 'pos': 0.0, 'compound...\n",
              "99  RT @emraanhashmi: The first shot that I witnes...  ...  {'neg': 0.0, 'neu': 0.765, 'pos': 0.235, 'comp...\n",
              "\n",
              "[100 rows x 3 columns]"
            ]
          },
          "metadata": {
            "tags": []
          }
        }
      ]
    },
    {
      "cell_type": "code",
      "metadata": {
        "id": "ozERQPypw5rd",
        "colab_type": "code",
        "colab": {
          "base_uri": "https://localhost:8080/",
          "height": 129
        },
        "outputId": "b08c4c37-e916-419f-84d3-3b22d66d7d43"
      },
      "source": [
        "#  tokenize all the cleaned tweets in our dataset\n",
        "tokenized_tweet = data['tidy_tweet'].apply(lambda x: x.split())\n",
        "\n",
        "tokenized_tweet.head()"
      ],
      "execution_count": 102,
      "outputs": [
        {
          "output_type": "execute_result",
          "data": {
            "text/plain": [
              "0    [Fateha, Darood, means, you, won, get, peace, ...\n",
              "1    [know, the, journey, know, the, pain, and, kno...\n",
              "2              [RIP, IRFAN, KHAN, SADDENED, THE, NEWS]\n",
              "3    [Platelets, required, for, year, old, lady, su...\n",
              "4    [Today, irfan, khan, more, Allah, pak, irfan, ...\n",
              "Name: tidy_tweet, dtype: object"
            ]
          },
          "metadata": {
            "tags": []
          },
          "execution_count": 102
        }
      ]
    }
  ]
}