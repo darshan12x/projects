{
  "nbformat": 4,
  "nbformat_minor": 0,
  "metadata": {
    "colab": {
      "name": "Sentiment_Analysis.ipynb",
      "provenance": [],
      "collapsed_sections": [],
      "include_colab_link": true
    },
    "kernelspec": {
      "name": "python3",
      "display_name": "Python 3"
    }
  },
  "cells": [
    {
      "cell_type": "markdown",
      "metadata": {
        "id": "view-in-github",
        "colab_type": "text"
      },
      "source": [
        "<a href=\"https://colab.research.google.com/github/darshan12x/projects/blob/mainbranch/Sentiment_Analysis.ipynb\" target=\"_parent\"><img src=\"https://colab.research.google.com/assets/colab-badge.svg\" alt=\"Open In Colab\"/></a>"
      ]
    },
    {
      "cell_type": "code",
      "metadata": {
        "id": "cXUv6FJrzW6I",
        "colab_type": "code",
        "colab": {}
      },
      "source": [
        "import tweepy\n",
        "import pandas as pd\n",
        "from nltk.sentiment.vader import SentimentIntensityAnalyzer\n",
        "import re\n",
        "import numpy as np \n",
        "import matplotlib.pyplot as plt \n",
        "import string\n",
        "import nltk\n",
        "import warnings\n",
        "import seaborn as sns\n",
        "from textblob import TextBlob\n",
        "warnings.filterwarnings(\"ignore\", category=DeprecationWarning)\n",
        "nltk.download('vader_lexicon')\n",
        "\n",
        "%matplotlib inline"
      ],
      "execution_count": 0,
      "outputs": []
    },
    {
      "cell_type": "code",
      "metadata": {
        "id": "xoeDu5guGo-N",
        "colab_type": "code",
        "colab": {}
      },
      "source": [
        "#My Twitter API Authentication Variables\n",
        "consumer_key = ''\n",
        "consumer_secret = ''\n",
        "access_token = ''\n",
        "access_token_secret = ''\n",
        "\n",
        "auth = tweepy.OAuthHandler(consumer_key, consumer_secret)\n",
        "auth.set_access_token(access_token, access_token_secret)\n",
        "\n",
        "api = tweepy.API(auth)"
      ],
      "execution_count": 0,
      "outputs": []
    },
    {
      "cell_type": "code",
      "metadata": {
        "id": "Neq7K-zTAZOH",
        "colab_type": "code",
        "outputId": "4c3a88a7-8911-4007-865b-6f772ae2ba9f",
        "colab": {
          "base_uri": "https://localhost:8080/",
          "height": 363
        }
      },
      "source": [
        "tweets = api.search('China', count=200) # search term \n",
        "\n",
        "# 'iso_language_code': 'en'\n",
        "# 'location': ''\n",
        "# 'followers_count': 41\n",
        "# 'verified': False\n",
        "# 'retweeted': False\n",
        "\n",
        "data = pd.DataFrame(data=[tweet.text for tweet in tweets], columns=['Tweets'])\n",
        "\n",
        "display(data.head(10))"
      ],
      "execution_count": 6,
      "outputs": [
        {
          "output_type": "display_data",
          "data": {
            "text/html": [
              "<div>\n",
              "<style scoped>\n",
              "    .dataframe tbody tr th:only-of-type {\n",
              "        vertical-align: middle;\n",
              "    }\n",
              "\n",
              "    .dataframe tbody tr th {\n",
              "        vertical-align: top;\n",
              "    }\n",
              "\n",
              "    .dataframe thead th {\n",
              "        text-align: right;\n",
              "    }\n",
              "</style>\n",
              "<table border=\"1\" class=\"dataframe\">\n",
              "  <thead>\n",
              "    <tr style=\"text-align: right;\">\n",
              "      <th></th>\n",
              "      <th>Tweets</th>\n",
              "    </tr>\n",
              "  </thead>\n",
              "  <tbody>\n",
              "    <tr>\n",
              "      <th>0</th>\n",
              "      <td>Mitt Romney: America is awakening to China. Th...</td>\n",
              "    </tr>\n",
              "    <tr>\n",
              "      <th>1</th>\n",
              "      <td>RT @billieeilish: Billie on the cover of Vogue...</td>\n",
              "    </tr>\n",
              "    <tr>\n",
              "      <th>2</th>\n",
              "      <td>RT @TsangMali: @FT Hoping that #COVID19 can be...</td>\n",
              "    </tr>\n",
              "    <tr>\n",
              "      <th>3</th>\n",
              "      <td>RT @RepAGonzalez: Glad to see @CommerceGov iss...</td>\n",
              "    </tr>\n",
              "    <tr>\n",
              "      <th>4</th>\n",
              "      <td>@SkyNews He’s demented and I have the feeling ...</td>\n",
              "    </tr>\n",
              "    <tr>\n",
              "      <th>5</th>\n",
              "      <td>RT @TaiwanNews886: China threatens to halt med...</td>\n",
              "    </tr>\n",
              "    <tr>\n",
              "      <th>6</th>\n",
              "      <td>RT @itsJeffTiedrich: 15 cases didn't go down t...</td>\n",
              "    </tr>\n",
              "    <tr>\n",
              "      <th>7</th>\n",
              "      <td>RT @RawStory: New information comes to light o...</td>\n",
              "    </tr>\n",
              "    <tr>\n",
              "      <th>8</th>\n",
              "      <td>@XHNews Damage control. China is only trying t...</td>\n",
              "    </tr>\n",
              "    <tr>\n",
              "      <th>9</th>\n",
              "      <td>@pepper46477330 @China_Welt_News Nicht?</td>\n",
              "    </tr>\n",
              "  </tbody>\n",
              "</table>\n",
              "</div>"
            ],
            "text/plain": [
              "                                              Tweets\n",
              "0  Mitt Romney: America is awakening to China. Th...\n",
              "1  RT @billieeilish: Billie on the cover of Vogue...\n",
              "2  RT @TsangMali: @FT Hoping that #COVID19 can be...\n",
              "3  RT @RepAGonzalez: Glad to see @CommerceGov iss...\n",
              "4  @SkyNews He’s demented and I have the feeling ...\n",
              "5  RT @TaiwanNews886: China threatens to halt med...\n",
              "6  RT @itsJeffTiedrich: 15 cases didn't go down t...\n",
              "7  RT @RawStory: New information comes to light o...\n",
              "8  @XHNews Damage control. China is only trying t...\n",
              "9            @pepper46477330 @China_Welt_News Nicht?"
            ]
          },
          "metadata": {
            "tags": []
          }
        }
      ]
    },
    {
      "cell_type": "code",
      "metadata": {
        "id": "-TjWwT_v34S-",
        "colab_type": "code",
        "outputId": "dc8ee4c7-9e9b-4a8e-d0f6-fe90587c7af8",
        "colab": {
          "base_uri": "https://localhost:8080/",
          "height": 363
        }
      },
      "source": [
        "# tidy up tweets\n",
        "def remove_pattern(input_txt, pattern):\n",
        "    r = re.findall(pattern, input_txt)\n",
        "    for i in r:\n",
        "        input_txt = re.sub(i, '', input_txt)\n",
        "        \n",
        "    return input_txt\n",
        "\n",
        "# remove twitter handles (@user)\n",
        "data['tidy_tweet'] = np.vectorize(remove_pattern)(data['Tweets'], \"@[\\w]*\")\n",
        "\n",
        "# remove links\n",
        "data['tidy_tweet'] = np.vectorize(remove_pattern)(data['tidy_tweet'],\"(\\w+:\\/\\/\\S+)\")\n",
        "\n",
        "# for hashtags - \"#(\\w+)\" \n",
        "\n",
        "# remove special characters, numbers, punctuations\n",
        "data['tidy_tweet'] = data['tidy_tweet'].str.replace(\"([^0-9A-Za-z \\t])\", \" \")\n",
        "\n",
        "# removing short words\n",
        "data['tidy_tweet'] = data['tidy_tweet'].apply(lambda x: ' '.join([w for w in x.split() if len(w)>2]))\n",
        "\n",
        "display(data.head(10))"
      ],
      "execution_count": 7,
      "outputs": [
        {
          "output_type": "display_data",
          "data": {
            "text/html": [
              "<div>\n",
              "<style scoped>\n",
              "    .dataframe tbody tr th:only-of-type {\n",
              "        vertical-align: middle;\n",
              "    }\n",
              "\n",
              "    .dataframe tbody tr th {\n",
              "        vertical-align: top;\n",
              "    }\n",
              "\n",
              "    .dataframe thead th {\n",
              "        text-align: right;\n",
              "    }\n",
              "</style>\n",
              "<table border=\"1\" class=\"dataframe\">\n",
              "  <thead>\n",
              "    <tr style=\"text-align: right;\">\n",
              "      <th></th>\n",
              "      <th>Tweets</th>\n",
              "      <th>tidy_tweet</th>\n",
              "    </tr>\n",
              "  </thead>\n",
              "  <tbody>\n",
              "    <tr>\n",
              "      <th>0</th>\n",
              "      <td>Mitt Romney: America is awakening to China. Th...</td>\n",
              "      <td>Mitt Romney America awakening China This clari...</td>\n",
              "    </tr>\n",
              "    <tr>\n",
              "      <th>1</th>\n",
              "      <td>RT @billieeilish: Billie on the cover of Vogue...</td>\n",
              "      <td>Billie the cover Vogue China</td>\n",
              "    </tr>\n",
              "    <tr>\n",
              "      <th>2</th>\n",
              "      <td>RT @TsangMali: @FT Hoping that #COVID19 can be...</td>\n",
              "      <td>Hoping that COVID19 can Chernobyl China CCP am...</td>\n",
              "    </tr>\n",
              "    <tr>\n",
              "      <th>3</th>\n",
              "      <td>RT @RepAGonzalez: Glad to see @CommerceGov iss...</td>\n",
              "      <td>Glad see issue new trade regulations China hel...</td>\n",
              "    </tr>\n",
              "    <tr>\n",
              "      <th>4</th>\n",
              "      <td>@SkyNews He’s demented and I have the feeling ...</td>\n",
              "      <td>demented and have the feeling were lose the el...</td>\n",
              "    </tr>\n",
              "    <tr>\n",
              "      <th>5</th>\n",
              "      <td>RT @TaiwanNews886: China threatens to halt med...</td>\n",
              "      <td>China threatens halt medical supplies after Ne...</td>\n",
              "    </tr>\n",
              "    <tr>\n",
              "      <th>6</th>\n",
              "      <td>RT @itsJeffTiedrich: 15 cases didn't go down t...</td>\n",
              "      <td>cases didn down didn disappear like miracle th...</td>\n",
              "    </tr>\n",
              "    <tr>\n",
              "      <th>7</th>\n",
              "      <td>RT @RawStory: New information comes to light o...</td>\n",
              "      <td>New information comes light Trump business dea...</td>\n",
              "    </tr>\n",
              "    <tr>\n",
              "      <th>8</th>\n",
              "      <td>@XHNews Damage control. China is only trying t...</td>\n",
              "      <td>Damage control China only trying save face</td>\n",
              "    </tr>\n",
              "    <tr>\n",
              "      <th>9</th>\n",
              "      <td>@pepper46477330 @China_Welt_News Nicht?</td>\n",
              "      <td>Nicht</td>\n",
              "    </tr>\n",
              "  </tbody>\n",
              "</table>\n",
              "</div>"
            ],
            "text/plain": [
              "                                              Tweets                                         tidy_tweet\n",
              "0  Mitt Romney: America is awakening to China. Th...  Mitt Romney America awakening China This clari...\n",
              "1  RT @billieeilish: Billie on the cover of Vogue...                       Billie the cover Vogue China\n",
              "2  RT @TsangMali: @FT Hoping that #COVID19 can be...  Hoping that COVID19 can Chernobyl China CCP am...\n",
              "3  RT @RepAGonzalez: Glad to see @CommerceGov iss...  Glad see issue new trade regulations China hel...\n",
              "4  @SkyNews He’s demented and I have the feeling ...  demented and have the feeling were lose the el...\n",
              "5  RT @TaiwanNews886: China threatens to halt med...  China threatens halt medical supplies after Ne...\n",
              "6  RT @itsJeffTiedrich: 15 cases didn't go down t...  cases didn down didn disappear like miracle th...\n",
              "7  RT @RawStory: New information comes to light o...  New information comes light Trump business dea...\n",
              "8  @XHNews Damage control. China is only trying t...         Damage control China only trying save face\n",
              "9            @pepper46477330 @China_Welt_News Nicht?                                              Nicht"
            ]
          },
          "metadata": {
            "tags": []
          }
        }
      ]
    },
    {
      "cell_type": "code",
      "metadata": {
        "id": "qFhS8xErQPXu",
        "colab_type": "code",
        "colab": {}
      },
      "source": [
        "# Alternate func\n",
        "# regex to strips URL, punctuations, usernames and any non-alphanumeric chars. Also separates words with single space. \n",
        "\"\"\" \n",
        "def clean_tweet(tweet):\n",
        "  return ' '.join(re.sub(\"@[\\w]*|([^0-9A-Za-z \\t])|(\\w+:\\/\\/\\S+)\",\" \",tweet).split())\n",
        "\n",
        "data['tidy_tweet'] = pd.DataFrame(data=[clean_tweet(tweet.text) for tweet in tweets], columns=['Tweets'])\n",
        "data['tidy_tweet'] = data['tidy_tweet'].apply(lambda x: ' '.join([w for w in x.split() if len(w)>2]))\n",
        "display(data.head(10))\n",
        "\n",
        "\"\"\""
      ],
      "execution_count": 0,
      "outputs": []
    },
    {
      "cell_type": "code",
      "metadata": {
        "id": "MjOtgC9t8veN",
        "colab_type": "code",
        "outputId": "ef396c87-d18e-41c2-8db6-b80a5b3b5714",
        "colab": {
          "base_uri": "https://localhost:8080/",
          "height": 423
        }
      },
      "source": [
        "sid = SentimentIntensityAnalyzer()\n",
        "listy = []\n",
        "\n",
        "for index, row in data.iterrows():\n",
        "  ss = sid.polarity_scores(row[\"tidy_tweet\"])\n",
        "  listy.append(ss)\n",
        "  \n",
        "se = pd.Series(listy)\n",
        "data['polarity'] = se.values\n",
        "\n",
        "display(data.head(100))"
      ],
      "execution_count": 8,
      "outputs": [
        {
          "output_type": "display_data",
          "data": {
            "text/html": [
              "<div>\n",
              "<style scoped>\n",
              "    .dataframe tbody tr th:only-of-type {\n",
              "        vertical-align: middle;\n",
              "    }\n",
              "\n",
              "    .dataframe tbody tr th {\n",
              "        vertical-align: top;\n",
              "    }\n",
              "\n",
              "    .dataframe thead th {\n",
              "        text-align: right;\n",
              "    }\n",
              "</style>\n",
              "<table border=\"1\" class=\"dataframe\">\n",
              "  <thead>\n",
              "    <tr style=\"text-align: right;\">\n",
              "      <th></th>\n",
              "      <th>Tweets</th>\n",
              "      <th>tidy_tweet</th>\n",
              "      <th>polarity</th>\n",
              "    </tr>\n",
              "  </thead>\n",
              "  <tbody>\n",
              "    <tr>\n",
              "      <th>0</th>\n",
              "      <td>Mitt Romney: America is awakening to China. Th...</td>\n",
              "      <td>Mitt Romney America awakening China This clari...</td>\n",
              "      <td>{'neg': 0.0, 'neu': 1.0, 'pos': 0.0, 'compound...</td>\n",
              "    </tr>\n",
              "    <tr>\n",
              "      <th>1</th>\n",
              "      <td>RT @billieeilish: Billie on the cover of Vogue...</td>\n",
              "      <td>Billie the cover Vogue China</td>\n",
              "      <td>{'neg': 0.0, 'neu': 1.0, 'pos': 0.0, 'compound...</td>\n",
              "    </tr>\n",
              "    <tr>\n",
              "      <th>2</th>\n",
              "      <td>RT @TsangMali: @FT Hoping that #COVID19 can be...</td>\n",
              "      <td>Hoping that COVID19 can Chernobyl China CCP am...</td>\n",
              "      <td>{'neg': 0.229, 'neu': 0.649, 'pos': 0.121, 'co...</td>\n",
              "    </tr>\n",
              "    <tr>\n",
              "      <th>3</th>\n",
              "      <td>RT @RepAGonzalez: Glad to see @CommerceGov iss...</td>\n",
              "      <td>Glad see issue new trade regulations China hel...</td>\n",
              "      <td>{'neg': 0.0, 'neu': 0.695, 'pos': 0.305, 'comp...</td>\n",
              "    </tr>\n",
              "    <tr>\n",
              "      <th>4</th>\n",
              "      <td>@SkyNews He’s demented and I have the feeling ...</td>\n",
              "      <td>demented and have the feeling were lose the el...</td>\n",
              "      <td>{'neg': 0.174, 'neu': 0.645, 'pos': 0.181, 'co...</td>\n",
              "    </tr>\n",
              "    <tr>\n",
              "      <th>...</th>\n",
              "      <td>...</td>\n",
              "      <td>...</td>\n",
              "      <td>...</td>\n",
              "    </tr>\n",
              "    <tr>\n",
              "      <th>95</th>\n",
              "      <td>RT @gustavoforgione: Presidencia obligó la lib...</td>\n",
              "      <td>Presidencia oblig liberaci del pesquero rong Y...</td>\n",
              "      <td>{'neg': 0.0, 'neu': 1.0, 'pos': 0.0, 'compound...</td>\n",
              "    </tr>\n",
              "    <tr>\n",
              "      <th>96</th>\n",
              "      <td>RT @mel_wright123: @ElaineM11584892 @EICosthet...</td>\n",
              "      <td>what was all the ranting about transparency Ch...</td>\n",
              "      <td>{'neg': 0.0, 'neu': 1.0, 'pos': 0.0, 'compound...</td>\n",
              "    </tr>\n",
              "    <tr>\n",
              "      <th>97</th>\n",
              "      <td>RT @johnpilger: There is a coming war on China...</td>\n",
              "      <td>There coming war China The tip the spear Austr...</td>\n",
              "      <td>{'neg': 0.326, 'neu': 0.608, 'pos': 0.066, 'co...</td>\n",
              "    </tr>\n",
              "    <tr>\n",
              "      <th>98</th>\n",
              "      <td>#FotoProfilBaru waktu Asian Games 2018 vs Chin...</td>\n",
              "      <td>FotoProfilBaru waktu Asian Games 2018 China Ta...</td>\n",
              "      <td>{'neg': 0.0, 'neu': 1.0, 'pos': 0.0, 'compound...</td>\n",
              "    </tr>\n",
              "    <tr>\n",
              "      <th>99</th>\n",
              "      <td>RT @XHNews: China's lunar rover Yutu-2, or Jad...</td>\n",
              "      <td>China lunar rover Yutu Jade Rabbit has driven ...</td>\n",
              "      <td>{'neg': 0.0, 'neu': 1.0, 'pos': 0.0, 'compound...</td>\n",
              "    </tr>\n",
              "  </tbody>\n",
              "</table>\n",
              "<p>100 rows × 3 columns</p>\n",
              "</div>"
            ],
            "text/plain": [
              "                                               Tweets  ...                                           polarity\n",
              "0   Mitt Romney: America is awakening to China. Th...  ...  {'neg': 0.0, 'neu': 1.0, 'pos': 0.0, 'compound...\n",
              "1   RT @billieeilish: Billie on the cover of Vogue...  ...  {'neg': 0.0, 'neu': 1.0, 'pos': 0.0, 'compound...\n",
              "2   RT @TsangMali: @FT Hoping that #COVID19 can be...  ...  {'neg': 0.229, 'neu': 0.649, 'pos': 0.121, 'co...\n",
              "3   RT @RepAGonzalez: Glad to see @CommerceGov iss...  ...  {'neg': 0.0, 'neu': 0.695, 'pos': 0.305, 'comp...\n",
              "4   @SkyNews He’s demented and I have the feeling ...  ...  {'neg': 0.174, 'neu': 0.645, 'pos': 0.181, 'co...\n",
              "..                                                ...  ...                                                ...\n",
              "95  RT @gustavoforgione: Presidencia obligó la lib...  ...  {'neg': 0.0, 'neu': 1.0, 'pos': 0.0, 'compound...\n",
              "96  RT @mel_wright123: @ElaineM11584892 @EICosthet...  ...  {'neg': 0.0, 'neu': 1.0, 'pos': 0.0, 'compound...\n",
              "97  RT @johnpilger: There is a coming war on China...  ...  {'neg': 0.326, 'neu': 0.608, 'pos': 0.066, 'co...\n",
              "98  #FotoProfilBaru waktu Asian Games 2018 vs Chin...  ...  {'neg': 0.0, 'neu': 1.0, 'pos': 0.0, 'compound...\n",
              "99  RT @XHNews: China's lunar rover Yutu-2, or Jad...  ...  {'neg': 0.0, 'neu': 1.0, 'pos': 0.0, 'compound...\n",
              "\n",
              "[100 rows x 3 columns]"
            ]
          },
          "metadata": {
            "tags": []
          }
        }
      ]
    },
    {
      "cell_type": "code",
      "metadata": {
        "id": "ozERQPypw5rd",
        "colab_type": "code",
        "outputId": "371b41b1-22b3-4004-88d9-a41f6d3528cd",
        "colab": {
          "base_uri": "https://localhost:8080/",
          "height": 129
        }
      },
      "source": [
        "#  tokenize all the cleaned tweets in our dataset\n",
        "tokenized_tweet = data['tidy_tweet'].apply(lambda x: x.split())\n",
        "\n",
        "tokenized_tweet.head()"
      ],
      "execution_count": 9,
      "outputs": [
        {
          "output_type": "execute_result",
          "data": {
            "text/plain": [
              "0    [Mitt, Romney, America, awakening, China, This...\n",
              "1                   [Billie, the, cover, Vogue, China]\n",
              "2    [Hoping, that, COVID19, can, Chernobyl, China,...\n",
              "3    [Glad, see, issue, new, trade, regulations, Ch...\n",
              "4    [demented, and, have, the, feeling, were, lose...\n",
              "Name: tidy_tweet, dtype: object"
            ]
          },
          "metadata": {
            "tags": []
          },
          "execution_count": 9
        }
      ]
    }
  ]
}