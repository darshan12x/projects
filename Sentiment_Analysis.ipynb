{
  "nbformat": 4,
  "nbformat_minor": 0,
  "metadata": {
    "colab": {
      "name": "Sentiment_Analysis.ipynb",
      "provenance": [],
      "collapsed_sections": [],
      "include_colab_link": true
    },
    "kernelspec": {
      "name": "python3",
      "display_name": "Python 3"
    }
  },
  "cells": [
    {
      "cell_type": "markdown",
      "metadata": {
        "id": "view-in-github",
        "colab_type": "text"
      },
      "source": [
        "<a href=\"https://colab.research.google.com/github/darshan12x/projects/blob/mainbranch/Sentiment_Analysis.ipynb\" target=\"_parent\"><img src=\"https://colab.research.google.com/assets/colab-badge.svg\" alt=\"Open In Colab\"/></a>"
      ]
    },
    {
      "cell_type": "code",
      "metadata": {
        "id": "VldzdttbGRT6",
        "colab_type": "code",
        "colab": {
          "base_uri": "https://localhost:8080/",
          "height": 54
        },
        "outputId": "0a0b30ed-ffd3-453e-89d5-e50060ba4f6f"
      },
      "source": [
        "import tweepy\n",
        "import pandas as pd\n",
        "from nltk.sentiment.vader import SentimentIntensityAnalyzer\n",
        "import re\n",
        "import numpy as np \n",
        "import matplotlib.pyplot as plt \n",
        "import string\n",
        "import nltk\n",
        "import warnings\n",
        "import seaborn as sns\n",
        "warnings.filterwarnings(\"ignore\", category=DeprecationWarning)\n",
        "nltk.download('vader_lexicon')\n",
        "\n",
        "%matplotlib inline"
      ],
      "execution_count": 52,
      "outputs": [
        {
          "output_type": "stream",
          "text": [
            "[nltk_data] Downloading package vader_lexicon to /root/nltk_data...\n",
            "[nltk_data]   Package vader_lexicon is already up-to-date!\n"
          ],
          "name": "stdout"
        }
      ]
    },
    {
      "cell_type": "code",
      "metadata": {
        "id": "xoeDu5guGo-N",
        "colab_type": "code",
        "colab": {
          "base_uri": "https://localhost:8080/",
          "height": 363
        },
        "outputId": "880bb870-f16b-480b-9a57-a31fac6c1961"
      },
      "source": [
        "#My Twitter API Authentication Variables\n",
        "consumer_key = 'VTgswlznw8Dzbj42HaL98NOAs'\n",
        "consumer_secret = 'QDR7gDKuUzc6T2I6R96FZ449GdWXNrELrcAdK8S1GZEutd0DTp'\n",
        "access_token = '957181535483908096-GdXFwmb1AFa0gmkhNwsDChpIOw2OY8r'\n",
        "access_token_secret = '1VouYOsjd9TVK0cMksF4yHqZU3UOVTzg8KSxH2VtnAj9c'\n",
        "\n",
        "auth = tweepy.OAuthHandler(consumer_key, consumer_secret)\n",
        "auth.set_access_token(access_token, access_token_secret)\n",
        "\n",
        "api = tweepy.API(auth)\n",
        "tweets = api.search('Irfan Khan', count=200)\n",
        "\n",
        "data = pd.DataFrame(data=[tweet.text for tweet in tweets], columns=['Tweets'])\n",
        "\n",
        "display(data.head(10))"
      ],
      "execution_count": 53,
      "outputs": [
        {
          "output_type": "display_data",
          "data": {
            "text/html": [
              "<div>\n",
              "<style scoped>\n",
              "    .dataframe tbody tr th:only-of-type {\n",
              "        vertical-align: middle;\n",
              "    }\n",
              "\n",
              "    .dataframe tbody tr th {\n",
              "        vertical-align: top;\n",
              "    }\n",
              "\n",
              "    .dataframe thead th {\n",
              "        text-align: right;\n",
              "    }\n",
              "</style>\n",
              "<table border=\"1\" class=\"dataframe\">\n",
              "  <thead>\n",
              "    <tr style=\"text-align: right;\">\n",
              "      <th></th>\n",
              "      <th>Tweets</th>\n",
              "    </tr>\n",
              "  </thead>\n",
              "  <tbody>\n",
              "    <tr>\n",
              "      <th>0</th>\n",
              "      <td>RT @fayedsouza: What was your favourite Film o...</td>\n",
              "    </tr>\n",
              "    <tr>\n",
              "      <th>1</th>\n",
              "      <td>One of my favourite actor. Rest in Peace Irfan...</td>\n",
              "    </tr>\n",
              "    <tr>\n",
              "      <th>2</th>\n",
              "      <td>RT @sambitswaraj: Such a sad sad news of Actor...</td>\n",
              "    </tr>\n",
              "    <tr>\n",
              "      <th>3</th>\n",
              "      <td>An artist who was blessed by God, like Bali, t...</td>\n",
              "    </tr>\n",
              "    <tr>\n",
              "      <th>4</th>\n",
              "      <td>RT @dhruv_rathee: Heartbreaking to hear about ...</td>\n",
              "    </tr>\n",
              "    <tr>\n",
              "      <th>5</th>\n",
              "      <td>RT @ActorMadhavan: Actor Irrfan Khan Dies In M...</td>\n",
              "    </tr>\n",
              "    <tr>\n",
              "      <th>6</th>\n",
              "      <td>RT @sambitswaraj: Such a sad sad news of Actor...</td>\n",
              "    </tr>\n",
              "    <tr>\n",
              "      <th>7</th>\n",
              "      <td>RT @CricNerd_vKash: Never thought we'd be talk...</td>\n",
              "    </tr>\n",
              "    <tr>\n",
              "      <th>8</th>\n",
              "      <td>RT @katrinakaif_4: @SrBachchan irfan khan is n...</td>\n",
              "    </tr>\n",
              "    <tr>\n",
              "      <th>9</th>\n",
              "      <td>RT @dhruv_rathee: Heartbreaking to hear about ...</td>\n",
              "    </tr>\n",
              "  </tbody>\n",
              "</table>\n",
              "</div>"
            ],
            "text/plain": [
              "                                              Tweets\n",
              "0  RT @fayedsouza: What was your favourite Film o...\n",
              "1  One of my favourite actor. Rest in Peace Irfan...\n",
              "2  RT @sambitswaraj: Such a sad sad news of Actor...\n",
              "3  An artist who was blessed by God, like Bali, t...\n",
              "4  RT @dhruv_rathee: Heartbreaking to hear about ...\n",
              "5  RT @ActorMadhavan: Actor Irrfan Khan Dies In M...\n",
              "6  RT @sambitswaraj: Such a sad sad news of Actor...\n",
              "7  RT @CricNerd_vKash: Never thought we'd be talk...\n",
              "8  RT @katrinakaif_4: @SrBachchan irfan khan is n...\n",
              "9  RT @dhruv_rathee: Heartbreaking to hear about ..."
            ]
          },
          "metadata": {
            "tags": []
          }
        }
      ]
    },
    {
      "cell_type": "code",
      "metadata": {
        "id": "-TjWwT_v34S-",
        "colab_type": "code",
        "colab": {
          "base_uri": "https://localhost:8080/",
          "height": 363
        },
        "outputId": "c20d4192-4214-4ff5-ece8-6c608890990e"
      },
      "source": [
        "# tidy up tweets\n",
        "def remove_pattern(input_txt, pattern):\n",
        "    r = re.findall(pattern, input_txt)\n",
        "    for i in r:\n",
        "        input_txt = re.sub(i, '', input_txt)\n",
        "        \n",
        "    return input_txt\n",
        "\n",
        "# remove twitter handles (@user)\n",
        "data['tidy_tweet'] = np.vectorize(remove_pattern)(data['Tweets'], \"@[\\w]*\")\n",
        "\n",
        "# remove special characters, numbers, punctuations\n",
        "data['tidy_tweet'] = data['tidy_tweet'].str.replace(\"[^a-zA-Z#]\", \" \")\n",
        "\n",
        "# removing short words\n",
        "data['tidy_tweet'] = data['tidy_tweet'].apply(lambda x: ' '.join([w for w in x.split() if len(w)>2]))\n",
        "\n",
        "display(data.head(10))"
      ],
      "execution_count": 54,
      "outputs": [
        {
          "output_type": "display_data",
          "data": {
            "text/html": [
              "<div>\n",
              "<style scoped>\n",
              "    .dataframe tbody tr th:only-of-type {\n",
              "        vertical-align: middle;\n",
              "    }\n",
              "\n",
              "    .dataframe tbody tr th {\n",
              "        vertical-align: top;\n",
              "    }\n",
              "\n",
              "    .dataframe thead th {\n",
              "        text-align: right;\n",
              "    }\n",
              "</style>\n",
              "<table border=\"1\" class=\"dataframe\">\n",
              "  <thead>\n",
              "    <tr style=\"text-align: right;\">\n",
              "      <th></th>\n",
              "      <th>Tweets</th>\n",
              "      <th>tidy_tweet</th>\n",
              "    </tr>\n",
              "  </thead>\n",
              "  <tbody>\n",
              "    <tr>\n",
              "      <th>0</th>\n",
              "      <td>RT @fayedsouza: What was your favourite Film o...</td>\n",
              "      <td>What was your favourite Film character played ...</td>\n",
              "    </tr>\n",
              "    <tr>\n",
              "      <th>1</th>\n",
              "      <td>One of my favourite actor. Rest in Peace Irfan...</td>\n",
              "      <td>One favourite actor Rest Peace Irfan Khan</td>\n",
              "    </tr>\n",
              "    <tr>\n",
              "      <th>2</th>\n",
              "      <td>RT @sambitswaraj: Such a sad sad news of Actor...</td>\n",
              "      <td>Such sad sad news Actor Irfan Khan passing awa...</td>\n",
              "    </tr>\n",
              "    <tr>\n",
              "      <th>3</th>\n",
              "      <td>An artist who was blessed by God, like Bali, t...</td>\n",
              "      <td>artist who was blessed God like Bali that you ...</td>\n",
              "    </tr>\n",
              "    <tr>\n",
              "      <th>4</th>\n",
              "      <td>RT @dhruv_rathee: Heartbreaking to hear about ...</td>\n",
              "      <td>Heartbreaking hear about Irfan Khan death was ...</td>\n",
              "    </tr>\n",
              "    <tr>\n",
              "      <th>5</th>\n",
              "      <td>RT @ActorMadhavan: Actor Irrfan Khan Dies In M...</td>\n",
              "      <td>Actor Irrfan Khan Dies Mumbai This such traged...</td>\n",
              "    </tr>\n",
              "    <tr>\n",
              "      <th>6</th>\n",
              "      <td>RT @sambitswaraj: Such a sad sad news of Actor...</td>\n",
              "      <td>Such sad sad news Actor Irfan Khan passing awa...</td>\n",
              "    </tr>\n",
              "    <tr>\n",
              "      <th>7</th>\n",
              "      <td>RT @CricNerd_vKash: Never thought we'd be talk...</td>\n",
              "      <td>Never thought talking about Irfan Khan past te...</td>\n",
              "    </tr>\n",
              "    <tr>\n",
              "      <th>8</th>\n",
              "      <td>RT @katrinakaif_4: @SrBachchan irfan khan is n...</td>\n",
              "      <td>irfan khan more #RIP #IrfanKhan #RIPirfan http...</td>\n",
              "    </tr>\n",
              "    <tr>\n",
              "      <th>9</th>\n",
              "      <td>RT @dhruv_rathee: Heartbreaking to hear about ...</td>\n",
              "      <td>Heartbreaking hear about Irfan Khan death was ...</td>\n",
              "    </tr>\n",
              "  </tbody>\n",
              "</table>\n",
              "</div>"
            ],
            "text/plain": [
              "                                              Tweets                                         tidy_tweet\n",
              "0  RT @fayedsouza: What was your favourite Film o...  What was your favourite Film character played ...\n",
              "1  One of my favourite actor. Rest in Peace Irfan...          One favourite actor Rest Peace Irfan Khan\n",
              "2  RT @sambitswaraj: Such a sad sad news of Actor...  Such sad sad news Actor Irfan Khan passing awa...\n",
              "3  An artist who was blessed by God, like Bali, t...  artist who was blessed God like Bali that you ...\n",
              "4  RT @dhruv_rathee: Heartbreaking to hear about ...  Heartbreaking hear about Irfan Khan death was ...\n",
              "5  RT @ActorMadhavan: Actor Irrfan Khan Dies In M...  Actor Irrfan Khan Dies Mumbai This such traged...\n",
              "6  RT @sambitswaraj: Such a sad sad news of Actor...  Such sad sad news Actor Irfan Khan passing awa...\n",
              "7  RT @CricNerd_vKash: Never thought we'd be talk...  Never thought talking about Irfan Khan past te...\n",
              "8  RT @katrinakaif_4: @SrBachchan irfan khan is n...  irfan khan more #RIP #IrfanKhan #RIPirfan http...\n",
              "9  RT @dhruv_rathee: Heartbreaking to hear about ...  Heartbreaking hear about Irfan Khan death was ..."
            ]
          },
          "metadata": {
            "tags": []
          }
        }
      ]
    },
    {
      "cell_type": "code",
      "metadata": {
        "id": "MjOtgC9t8veN",
        "colab_type": "code",
        "colab": {
          "base_uri": "https://localhost:8080/",
          "height": 423
        },
        "outputId": "819e1332-1249-4fb4-fe44-ab82c773eb29"
      },
      "source": [
        "sid = SentimentIntensityAnalyzer()\n",
        "listy = []\n",
        "\n",
        "for index, row in data.iterrows():\n",
        "  ss = sid.polarity_scores(row[\"tidy_tweet\"])\n",
        "  listy.append(ss)\n",
        "  \n",
        "se = pd.Series(listy)\n",
        "data['polarity'] = se.values\n",
        "\n",
        "display(data.head(100))"
      ],
      "execution_count": 55,
      "outputs": [
        {
          "output_type": "display_data",
          "data": {
            "text/html": [
              "<div>\n",
              "<style scoped>\n",
              "    .dataframe tbody tr th:only-of-type {\n",
              "        vertical-align: middle;\n",
              "    }\n",
              "\n",
              "    .dataframe tbody tr th {\n",
              "        vertical-align: top;\n",
              "    }\n",
              "\n",
              "    .dataframe thead th {\n",
              "        text-align: right;\n",
              "    }\n",
              "</style>\n",
              "<table border=\"1\" class=\"dataframe\">\n",
              "  <thead>\n",
              "    <tr style=\"text-align: right;\">\n",
              "      <th></th>\n",
              "      <th>Tweets</th>\n",
              "      <th>tidy_tweet</th>\n",
              "      <th>polarity</th>\n",
              "    </tr>\n",
              "  </thead>\n",
              "  <tbody>\n",
              "    <tr>\n",
              "      <th>0</th>\n",
              "      <td>RT @fayedsouza: What was your favourite Film o...</td>\n",
              "      <td>What was your favourite Film character played ...</td>\n",
              "      <td>{'neg': 0.0, 'neu': 0.789, 'pos': 0.211, 'comp...</td>\n",
              "    </tr>\n",
              "    <tr>\n",
              "      <th>1</th>\n",
              "      <td>One of my favourite actor. Rest in Peace Irfan...</td>\n",
              "      <td>One favourite actor Rest Peace Irfan Khan</td>\n",
              "      <td>{'neg': 0.0, 'neu': 0.632, 'pos': 0.368, 'comp...</td>\n",
              "    </tr>\n",
              "    <tr>\n",
              "      <th>2</th>\n",
              "      <td>RT @sambitswaraj: Such a sad sad news of Actor...</td>\n",
              "      <td>Such sad sad news Actor Irfan Khan passing awa...</td>\n",
              "      <td>{'neg': 0.221, 'neu': 0.536, 'pos': 0.243, 'co...</td>\n",
              "    </tr>\n",
              "    <tr>\n",
              "      <th>3</th>\n",
              "      <td>An artist who was blessed by God, like Bali, t...</td>\n",
              "      <td>artist who was blessed God like Bali that you ...</td>\n",
              "      <td>{'neg': 0.0, 'neu': 0.667, 'pos': 0.333, 'comp...</td>\n",
              "    </tr>\n",
              "    <tr>\n",
              "      <th>4</th>\n",
              "      <td>RT @dhruv_rathee: Heartbreaking to hear about ...</td>\n",
              "      <td>Heartbreaking hear about Irfan Khan death was ...</td>\n",
              "      <td>{'neg': 0.265, 'neu': 0.462, 'pos': 0.273, 'co...</td>\n",
              "    </tr>\n",
              "    <tr>\n",
              "      <th>...</th>\n",
              "      <td>...</td>\n",
              "      <td>...</td>\n",
              "      <td>...</td>\n",
              "    </tr>\n",
              "    <tr>\n",
              "      <th>95</th>\n",
              "      <td>not irfan khan 😭 https://t.co/b9gMJTMgjW</td>\n",
              "      <td>not irfan khan https gMJTMgjW</td>\n",
              "      <td>{'neg': 0.0, 'neu': 1.0, 'pos': 0.0, 'compound...</td>\n",
              "    </tr>\n",
              "    <tr>\n",
              "      <th>96</th>\n",
              "      <td>RT @VishalVerma_9: This feels there right in t...</td>\n",
              "      <td>This feels there right the middle Gone too soo...</td>\n",
              "      <td>{'neg': 0.0, 'neu': 1.0, 'pos': 0.0, 'compound...</td>\n",
              "    </tr>\n",
              "    <tr>\n",
              "      <th>97</th>\n",
              "      <td>यही हमारे संस्कार है....\\nहम इंसान को इंसान सम...</td>\n",
              "      <td></td>\n",
              "      <td>{'neg': 0.0, 'neu': 0.0, 'pos': 0.0, 'compound...</td>\n",
              "    </tr>\n",
              "    <tr>\n",
              "      <th>98</th>\n",
              "      <td>Everyone in the Industry is in for Money while...</td>\n",
              "      <td>Everyone the Industry for Money while Irfan kh...</td>\n",
              "      <td>{'neg': 0.0, 'neu': 1.0, 'pos': 0.0, 'compound...</td>\n",
              "    </tr>\n",
              "    <tr>\n",
              "      <th>99</th>\n",
              "      <td>@Velvetyvirgo Aaj phir reply Kar raha hu with ...</td>\n",
              "      <td>Aaj phir reply Kar raha with name RIP Irfan khan</td>\n",
              "      <td>{'neg': 0.0, 'neu': 1.0, 'pos': 0.0, 'compound...</td>\n",
              "    </tr>\n",
              "  </tbody>\n",
              "</table>\n",
              "<p>100 rows × 3 columns</p>\n",
              "</div>"
            ],
            "text/plain": [
              "                                               Tweets  ...                                           polarity\n",
              "0   RT @fayedsouza: What was your favourite Film o...  ...  {'neg': 0.0, 'neu': 0.789, 'pos': 0.211, 'comp...\n",
              "1   One of my favourite actor. Rest in Peace Irfan...  ...  {'neg': 0.0, 'neu': 0.632, 'pos': 0.368, 'comp...\n",
              "2   RT @sambitswaraj: Such a sad sad news of Actor...  ...  {'neg': 0.221, 'neu': 0.536, 'pos': 0.243, 'co...\n",
              "3   An artist who was blessed by God, like Bali, t...  ...  {'neg': 0.0, 'neu': 0.667, 'pos': 0.333, 'comp...\n",
              "4   RT @dhruv_rathee: Heartbreaking to hear about ...  ...  {'neg': 0.265, 'neu': 0.462, 'pos': 0.273, 'co...\n",
              "..                                                ...  ...                                                ...\n",
              "95           not irfan khan 😭 https://t.co/b9gMJTMgjW  ...  {'neg': 0.0, 'neu': 1.0, 'pos': 0.0, 'compound...\n",
              "96  RT @VishalVerma_9: This feels there right in t...  ...  {'neg': 0.0, 'neu': 1.0, 'pos': 0.0, 'compound...\n",
              "97  यही हमारे संस्कार है....\\nहम इंसान को इंसान सम...  ...  {'neg': 0.0, 'neu': 0.0, 'pos': 0.0, 'compound...\n",
              "98  Everyone in the Industry is in for Money while...  ...  {'neg': 0.0, 'neu': 1.0, 'pos': 0.0, 'compound...\n",
              "99  @Velvetyvirgo Aaj phir reply Kar raha hu with ...  ...  {'neg': 0.0, 'neu': 1.0, 'pos': 0.0, 'compound...\n",
              "\n",
              "[100 rows x 3 columns]"
            ]
          },
          "metadata": {
            "tags": []
          }
        }
      ]
    },
    {
      "cell_type": "code",
      "metadata": {
        "id": "ozERQPypw5rd",
        "colab_type": "code",
        "colab": {
          "base_uri": "https://localhost:8080/",
          "height": 129
        },
        "outputId": "6a5461ac-0901-4d3a-efd8-995c1b340185"
      },
      "source": [
        "#  tokenize all the cleaned tweets in our dataset\n",
        "tokenized_tweet = data['tidy_tweet'].apply(lambda x: x.split())\n",
        "\n",
        "tokenized_tweet.head()"
      ],
      "execution_count": 56,
      "outputs": [
        {
          "output_type": "execute_result",
          "data": {
            "text/plain": [
              "0    [What, was, your, favourite, Film, character, ...\n",
              "1    [One, favourite, actor, Rest, Peace, Irfan, Khan]\n",
              "2    [Such, sad, sad, news, Actor, Irfan, Khan, pas...\n",
              "3    [artist, who, was, blessed, God, like, Bali, t...\n",
              "4    [Heartbreaking, hear, about, Irfan, Khan, deat...\n",
              "Name: tidy_tweet, dtype: object"
            ]
          },
          "metadata": {
            "tags": []
          },
          "execution_count": 56
        }
      ]
    }
  ]
}