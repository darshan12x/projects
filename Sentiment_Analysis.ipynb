{
  "nbformat": 4,
  "nbformat_minor": 0,
  "metadata": {
    "colab": {
      "name": "Sentiment_Analysis.ipynb",
      "provenance": [],
      "collapsed_sections": [],
      "include_colab_link": true
    },
    "kernelspec": {
      "name": "python3",
      "display_name": "Python 3"
    }
  },
  "cells": [
    {
      "cell_type": "markdown",
      "metadata": {
        "id": "view-in-github",
        "colab_type": "text"
      },
      "source": [
        "<a href=\"https://colab.research.google.com/github/darshan12x/projects/blob/mainbranch/Sentiment_Analysis.ipynb\" target=\"_parent\"><img src=\"https://colab.research.google.com/assets/colab-badge.svg\" alt=\"Open In Colab\"/></a>"
      ]
    },
    {
      "cell_type": "code",
      "metadata": {
        "id": "VldzdttbGRT6",
        "colab_type": "code",
        "colab": {
          "base_uri": "https://localhost:8080/",
          "height": 54
        },
        "outputId": "386251f4-4b04-4152-b8ce-287300ca61cf"
      },
      "source": [
        "import tweepy\n",
        "import pandas as pd\n",
        "from nltk.sentiment.vader import SentimentIntensityAnalyzer\n",
        "import re\n",
        "import numpy as np \n",
        "import matplotlib.pyplot as plt \n",
        "import string\n",
        "import nltk\n",
        "import warnings\n",
        "import seaborn as sns\n",
        "warnings.filterwarnings(\"ignore\", category=DeprecationWarning)\n",
        "nltk.download('vader_lexicon')\n",
        "\n",
        "%matplotlib inline"
      ],
      "execution_count": 66,
      "outputs": [
        {
          "output_type": "stream",
          "text": [
            "[nltk_data] Downloading package vader_lexicon to /root/nltk_data...\n",
            "[nltk_data]   Package vader_lexicon is already up-to-date!\n"
          ],
          "name": "stdout"
        }
      ]
    },
    {
      "cell_type": "code",
      "metadata": {
        "id": "xoeDu5guGo-N",
        "colab_type": "code",
        "colab": {}
      },
      "source": [
        "#My Twitter API Authentication Variables\n",
        "consumer_key = 'VTgswlznw8Dzbj42HaL98NOAs'\n",
        "consumer_secret = 'QDR7gDKuUzc6T2I6R96FZ449GdWXNrELrcAdK8S1GZEutd0DTp'\n",
        "access_token = '957181535483908096-GdXFwmb1AFa0gmkhNwsDChpIOw2OY8r'\n",
        "access_token_secret = '1VouYOsjd9TVK0cMksF4yHqZU3UOVTzg8KSxH2VtnAj9c'\n",
        "\n",
        "auth = tweepy.OAuthHandler(consumer_key, consumer_secret)\n",
        "auth.set_access_token(access_token, access_token_secret)\n",
        "\n",
        "api = tweepy.API(auth)"
      ],
      "execution_count": 0,
      "outputs": []
    },
    {
      "cell_type": "code",
      "metadata": {
        "id": "Neq7K-zTAZOH",
        "colab_type": "code",
        "colab": {
          "base_uri": "https://localhost:8080/",
          "height": 363
        },
        "outputId": "c16e2655-70e1-491d-effa-056944abd0c8"
      },
      "source": [
        "tweets = api.search('Irfan Khan', count=200)\n",
        "\n",
        "# 'metadata': {'iso_language_code': 'en'\n",
        "# 'location': ''\n",
        "# 'followers_count': 41\n",
        "# 'verified': False\n",
        "# 'retweeted': False\n",
        "\n",
        "data = pd.DataFrame(data=[tweet.text for tweet in tweets], columns=['Tweets'])\n",
        "\n",
        "display(data.head(10))"
      ],
      "execution_count": 92,
      "outputs": [
        {
          "output_type": "display_data",
          "data": {
            "text/html": [
              "<div>\n",
              "<style scoped>\n",
              "    .dataframe tbody tr th:only-of-type {\n",
              "        vertical-align: middle;\n",
              "    }\n",
              "\n",
              "    .dataframe tbody tr th {\n",
              "        vertical-align: top;\n",
              "    }\n",
              "\n",
              "    .dataframe thead th {\n",
              "        text-align: right;\n",
              "    }\n",
              "</style>\n",
              "<table border=\"1\" class=\"dataframe\">\n",
              "  <thead>\n",
              "    <tr style=\"text-align: right;\">\n",
              "      <th></th>\n",
              "      <th>Tweets</th>\n",
              "    </tr>\n",
              "  </thead>\n",
              "  <tbody>\n",
              "    <tr>\n",
              "      <th>0</th>\n",
              "      <td>RT @KBhatia22: RIP Irfan Khan.. You live on in...</td>\n",
              "    </tr>\n",
              "    <tr>\n",
              "      <th>1</th>\n",
              "      <td>RT @Jimin_Serenity: #IrrfanKhan There are very...</td>\n",
              "    </tr>\n",
              "    <tr>\n",
              "      <th>2</th>\n",
              "      <td>RT @YUVSTRONG12: I know the journey I know the...</td>\n",
              "    </tr>\n",
              "    <tr>\n",
              "      <th>3</th>\n",
              "      <td>RT @YUVSTRONG12: I know the journey I know the...</td>\n",
              "    </tr>\n",
              "    <tr>\n",
              "      <th>4</th>\n",
              "      <td>RT @Payal_Rohatgi: Ram Ram ji 🙏 How I respecte...</td>\n",
              "    </tr>\n",
              "    <tr>\n",
              "      <th>5</th>\n",
              "      <td>It's hard to believe that you have left us\\nI ...</td>\n",
              "    </tr>\n",
              "    <tr>\n",
              "      <th>6</th>\n",
              "      <td>RT @iamsrk_brk: Irfan Khan a struggler who bec...</td>\n",
              "    </tr>\n",
              "    <tr>\n",
              "      <th>7</th>\n",
              "      <td>Rest In Peace, Irfan Khan (1966-2020). https:/...</td>\n",
              "    </tr>\n",
              "    <tr>\n",
              "      <th>8</th>\n",
              "      <td>First I saw #IrrfanKhan on silver screen, I kn...</td>\n",
              "    </tr>\n",
              "    <tr>\n",
              "      <th>9</th>\n",
              "      <td>@SrBachchan I Miss You  irfan khan Sir</td>\n",
              "    </tr>\n",
              "  </tbody>\n",
              "</table>\n",
              "</div>"
            ],
            "text/plain": [
              "                                              Tweets\n",
              "0  RT @KBhatia22: RIP Irfan Khan.. You live on in...\n",
              "1  RT @Jimin_Serenity: #IrrfanKhan There are very...\n",
              "2  RT @YUVSTRONG12: I know the journey I know the...\n",
              "3  RT @YUVSTRONG12: I know the journey I know the...\n",
              "4  RT @Payal_Rohatgi: Ram Ram ji 🙏 How I respecte...\n",
              "5  It's hard to believe that you have left us\\nI ...\n",
              "6  RT @iamsrk_brk: Irfan Khan a struggler who bec...\n",
              "7  Rest In Peace, Irfan Khan (1966-2020). https:/...\n",
              "8  First I saw #IrrfanKhan on silver screen, I kn...\n",
              "9             @SrBachchan I Miss You  irfan khan Sir"
            ]
          },
          "metadata": {
            "tags": []
          }
        }
      ]
    },
    {
      "cell_type": "code",
      "metadata": {
        "id": "x6XIa4ox_XqT",
        "colab_type": "code",
        "colab": {
          "base_uri": "https://localhost:8080/",
          "height": 56
        },
        "outputId": "34896f6e-1085-47c8-fadd-38af143e2752"
      },
      "source": [
        "# Alternate func\n",
        "# regex to strips URL, punctuations, usernames and any non-alphanumeric chars. Also separates words with single space. \n",
        "\"\"\" \n",
        "def clean_tweet(tweet):\n",
        "  return ' '.join(re.sub(\"(@[A-Za-z0-9]+)|([^0-9A-Za-z \\t])|(\\w+:\\/\\/\\S+)\",\" \",tweet).split())\n",
        "\n",
        "data['tidy_tweet_v1'] = pd.DataFrame(data=[clean_tweet(tweet.text) for tweet in tweets], columns=['Tweets'])\n",
        "data['tidy_tweet_v1'] = data['tidy_tweet_v1'].apply(lambda x: ' '.join([w for w in x.split() if len(w)>2]))\n",
        "display(data.head(10))\n",
        "\n",
        "\"\"\""
      ],
      "execution_count": 87,
      "outputs": [
        {
          "output_type": "execute_result",
          "data": {
            "text/plain": [
              "' \\ndef clean_tweet(tweet):\\n  return \\' \\'.join(re.sub(\"(@[A-Za-z0-9]+)|([^0-9A-Za-z \\t])|(\\\\w+:\\\\/\\\\/\\\\S+)\",\" \",tweet).split())\\n\\ndata[\\'tidy_tweet_v1\\'] = pd.DataFrame(data=[clean_tweet(tweet.text) for tweet in tweets], columns=[\\'Tweets\\'])\\ndata[\\'tidy_tweet_v1\\'] = data[\\'tidy_tweet_v1\\'].apply(lambda x: \\' \\'.join([w for w in x.split() if len(w)>2]))\\ndisplay(data.head(10))\\n'"
            ]
          },
          "metadata": {
            "tags": []
          },
          "execution_count": 87
        }
      ]
    },
    {
      "cell_type": "code",
      "metadata": {
        "id": "-TjWwT_v34S-",
        "colab_type": "code",
        "colab": {
          "base_uri": "https://localhost:8080/",
          "height": 363
        },
        "outputId": "f53d1f37-5087-4b28-de47-7acff8f0612b"
      },
      "source": [
        "# tidy up tweets\n",
        "def remove_pattern(input_txt, pattern):\n",
        "    r = re.findall(pattern, input_txt)\n",
        "    for i in r:\n",
        "        input_txt = re.sub(i, '', input_txt)\n",
        "        \n",
        "    return input_txt\n",
        "\n",
        "# remove twitter handles (@user)\n",
        "data['tidy_tweet'] = np.vectorize(remove_pattern)(data['Tweets'], \"@[\\w]*\")\n",
        "\n",
        "# remove links\n",
        "data['tidy_tweet'] = np.vectorize(remove_pattern)(data['tidy_tweet'],\"(\\w+:\\/\\/\\S+)\")\n",
        "\n",
        "# remove special characters, numbers, punctuations\n",
        "data['tidy_tweet'] = data['tidy_tweet'].str.replace(\"([^0-9A-Za-z \\t])\", \" \")\n",
        "\n",
        "# removing short words\n",
        "data['tidy_tweet'] = data['tidy_tweet'].apply(lambda x: ' '.join([w for w in x.split() if len(w)>2]))\n",
        "\n",
        "display(data.head(10))"
      ],
      "execution_count": 89,
      "outputs": [
        {
          "output_type": "display_data",
          "data": {
            "text/html": [
              "<div>\n",
              "<style scoped>\n",
              "    .dataframe tbody tr th:only-of-type {\n",
              "        vertical-align: middle;\n",
              "    }\n",
              "\n",
              "    .dataframe tbody tr th {\n",
              "        vertical-align: top;\n",
              "    }\n",
              "\n",
              "    .dataframe thead th {\n",
              "        text-align: right;\n",
              "    }\n",
              "</style>\n",
              "<table border=\"1\" class=\"dataframe\">\n",
              "  <thead>\n",
              "    <tr style=\"text-align: right;\">\n",
              "      <th></th>\n",
              "      <th>Tweets</th>\n",
              "      <th>tidy_tweet</th>\n",
              "    </tr>\n",
              "  </thead>\n",
              "  <tbody>\n",
              "    <tr>\n",
              "      <th>0</th>\n",
              "      <td>RT @StupidLarka420: Legends never die, they're...</td>\n",
              "      <td>Legends never die they always our heart Irfan ...</td>\n",
              "    </tr>\n",
              "    <tr>\n",
              "      <th>1</th>\n",
              "      <td>RT @AmitShah: Anguished over the sad news of I...</td>\n",
              "      <td>Anguished over the sad news Irfan Khan demise ...</td>\n",
              "    </tr>\n",
              "    <tr>\n",
              "      <th>2</th>\n",
              "      <td>RT @AmitShah: Anguished over the sad news of I...</td>\n",
              "      <td>Anguished over the sad news Irfan Khan demise ...</td>\n",
              "    </tr>\n",
              "    <tr>\n",
              "      <th>3</th>\n",
              "      <td>RT @Rashamians_Adda: This Is Lit!\\nThis Is Wha...</td>\n",
              "      <td>This Lit This What Has Earned All gonna Miss H...</td>\n",
              "    </tr>\n",
              "    <tr>\n",
              "      <th>4</th>\n",
              "      <td>Completely shocked to hear of the demise of on...</td>\n",
              "      <td>Completely shocked hear the demise one the mos...</td>\n",
              "    </tr>\n",
              "    <tr>\n",
              "      <th>5</th>\n",
              "      <td>RT @dhruv_rathee: Heartbreaking to hear about ...</td>\n",
              "      <td>Heartbreaking hear about Irfan Khan death was ...</td>\n",
              "    </tr>\n",
              "    <tr>\n",
              "      <th>6</th>\n",
              "      <td>RT @Imanoop89: Irfan Khan - an actor beyond co...</td>\n",
              "      <td>Irfan Khan actor beyond compare May always rem...</td>\n",
              "    </tr>\n",
              "    <tr>\n",
              "      <th>7</th>\n",
              "      <td>நடிகர் இர்ஃபான் கான் மரணம் - சோகத்தில் ரசிகர்க...</td>\n",
              "      <td>IrrfanKhan Cinema News4Tamil</td>\n",
              "    </tr>\n",
              "    <tr>\n",
              "      <th>8</th>\n",
              "      <td>INNA LILLAHI WA INNA ILAYEHI Raji'un \\n\\nRip i...</td>\n",
              "      <td>INNA LILLAHI INNA ILAYEHI Raji Rip irfan khan ...</td>\n",
              "    </tr>\n",
              "    <tr>\n",
              "      <th>9</th>\n",
              "      <td>RT @LambaAlka: Irfan Khan the Actor is no more...</td>\n",
              "      <td>Irfan Khan the Actor more RIP IrfanKhan</td>\n",
              "    </tr>\n",
              "  </tbody>\n",
              "</table>\n",
              "</div>"
            ],
            "text/plain": [
              "                                              Tweets                                         tidy_tweet\n",
              "0  RT @StupidLarka420: Legends never die, they're...  Legends never die they always our heart Irfan ...\n",
              "1  RT @AmitShah: Anguished over the sad news of I...  Anguished over the sad news Irfan Khan demise ...\n",
              "2  RT @AmitShah: Anguished over the sad news of I...  Anguished over the sad news Irfan Khan demise ...\n",
              "3  RT @Rashamians_Adda: This Is Lit!\\nThis Is Wha...  This Lit This What Has Earned All gonna Miss H...\n",
              "4  Completely shocked to hear of the demise of on...  Completely shocked hear the demise one the mos...\n",
              "5  RT @dhruv_rathee: Heartbreaking to hear about ...  Heartbreaking hear about Irfan Khan death was ...\n",
              "6  RT @Imanoop89: Irfan Khan - an actor beyond co...  Irfan Khan actor beyond compare May always rem...\n",
              "7  நடிகர் இர்ஃபான் கான் மரணம் - சோகத்தில் ரசிகர்க...                       IrrfanKhan Cinema News4Tamil\n",
              "8  INNA LILLAHI WA INNA ILAYEHI Raji'un \\n\\nRip i...  INNA LILLAHI INNA ILAYEHI Raji Rip irfan khan ...\n",
              "9  RT @LambaAlka: Irfan Khan the Actor is no more...            Irfan Khan the Actor more RIP IrfanKhan"
            ]
          },
          "metadata": {
            "tags": []
          }
        }
      ]
    },
    {
      "cell_type": "code",
      "metadata": {
        "id": "MjOtgC9t8veN",
        "colab_type": "code",
        "colab": {
          "base_uri": "https://localhost:8080/",
          "height": 597
        },
        "outputId": "85f49346-2efc-4f13-9fda-e5bf18335a67"
      },
      "source": [
        "sid = SentimentIntensityAnalyzer()\n",
        "listy = []\n",
        "\n",
        "for index, row in data.iterrows():\n",
        "  ss = sid.polarity_scores(row[\"tidy_tweet_v1\"])\n",
        "  listy.append(ss)\n",
        "  \n",
        "se = pd.Series(listy)\n",
        "data['polarity'] = se.values\n",
        "\n",
        "display(data.head(100))"
      ],
      "execution_count": 82,
      "outputs": [
        {
          "output_type": "display_data",
          "data": {
            "text/html": [
              "<div>\n",
              "<style scoped>\n",
              "    .dataframe tbody tr th:only-of-type {\n",
              "        vertical-align: middle;\n",
              "    }\n",
              "\n",
              "    .dataframe tbody tr th {\n",
              "        vertical-align: top;\n",
              "    }\n",
              "\n",
              "    .dataframe thead th {\n",
              "        text-align: right;\n",
              "    }\n",
              "</style>\n",
              "<table border=\"1\" class=\"dataframe\">\n",
              "  <thead>\n",
              "    <tr style=\"text-align: right;\">\n",
              "      <th></th>\n",
              "      <th>Tweets</th>\n",
              "      <th>tidy_tweet_v1</th>\n",
              "      <th>tidy_tweet_v2</th>\n",
              "      <th>polarity</th>\n",
              "    </tr>\n",
              "  </thead>\n",
              "  <tbody>\n",
              "    <tr>\n",
              "      <th>0</th>\n",
              "      <td>RT @PrakashJavdekar: Irfan Khan was a versatil...</td>\n",
              "      <td>Irfan Khan was versatile actor Sorry hear abou...</td>\n",
              "      <td>Irfan Khan was versatile actor Sorry hear abou...</td>\n",
              "      <td>{'neg': 0.062, 'neu': 0.622, 'pos': 0.316, 'co...</td>\n",
              "    </tr>\n",
              "    <tr>\n",
              "      <th>1</th>\n",
              "      <td>RT @LahriSunil: Very sad to hear sudden demise...</td>\n",
              "      <td>Very sad hear sudden demise one the finest act...</td>\n",
              "      <td>Very sad hear sudden demise one the finest act...</td>\n",
              "      <td>{'neg': 0.123, 'neu': 0.652, 'pos': 0.225, 'co...</td>\n",
              "    </tr>\n",
              "    <tr>\n",
              "      <th>2</th>\n",
              "      <td>@AmitShah Anguished over the sad news of Irfan...</td>\n",
              "      <td>Anguished over the sad news Irfan Khan demise ...</td>\n",
              "      <td>Anguished over the sad news Irfan Khan demise ...</td>\n",
              "      <td>{'neg': 0.296, 'neu': 0.704, 'pos': 0.0, 'comp...</td>\n",
              "    </tr>\n",
              "    <tr>\n",
              "      <th>3</th>\n",
              "      <td>RT @AmitShah: Anguished over the sad news of I...</td>\n",
              "      <td>Anguished over the sad news Irfan Khan demise ...</td>\n",
              "      <td>Anguished over the sad news Irfan Khan demise ...</td>\n",
              "      <td>{'neg': 0.238, 'neu': 0.645, 'pos': 0.117, 'co...</td>\n",
              "    </tr>\n",
              "    <tr>\n",
              "      <th>4</th>\n",
              "      <td>প্রয়াত Irfan Khan sir, One of my favorite act...</td>\n",
              "      <td>Irfan Khan sir One favorite actor Life Metro P...</td>\n",
              "      <td>Irfan Khan sir One favorite actor Life Metro P...</td>\n",
              "      <td>{'neg': 0.0, 'neu': 0.824, 'pos': 0.176, 'comp...</td>\n",
              "    </tr>\n",
              "    <tr>\n",
              "      <th>...</th>\n",
              "      <td>...</td>\n",
              "      <td>...</td>\n",
              "      <td>...</td>\n",
              "      <td>...</td>\n",
              "    </tr>\n",
              "    <tr>\n",
              "      <th>95</th>\n",
              "      <td>RT @Gul_3_Lala: Irfan khan died due to cancer ...</td>\n",
              "      <td>Lala Irfan khan died due cancer was such good ...</td>\n",
              "      <td>Irfan khan died due cancer was such good perso...</td>\n",
              "      <td>{'neg': 0.407, 'neu': 0.491, 'pos': 0.102, 'co...</td>\n",
              "    </tr>\n",
              "    <tr>\n",
              "      <th>96</th>\n",
              "      <td>https://t.co/eKQ15bYYaz\\n#RIPIrrfanKhan\\n#irfa...</td>\n",
              "      <td>RIPIrrfanKhan irfankhandeath</td>\n",
              "      <td>#RIPIrrfanKhan #irfankhandeath</td>\n",
              "      <td>{'neg': 0.0, 'neu': 1.0, 'pos': 0.0, 'compound...</td>\n",
              "    </tr>\n",
              "    <tr>\n",
              "      <th>97</th>\n",
              "      <td>Twitterati, please stop tagging Irfan Pathan, ...</td>\n",
              "      <td>Twitterati please stop tagging Irfan Pathan in...</td>\n",
              "      <td>Twitterati please stop tagging Irfan Pathan in...</td>\n",
              "      <td>{'neg': 0.133, 'neu': 0.727, 'pos': 0.139, 'co...</td>\n",
              "    </tr>\n",
              "    <tr>\n",
              "      <th>98</th>\n",
              "      <td>Inna’alilahi Wa Inna’alilahi Ra’ajioon... \\nRe...</td>\n",
              "      <td>Inna alilahi Inna alilahi ajioon Rest Peace Ir...</td>\n",
              "      <td>Inna alilahi Inna alilahi ajioon Rest Peace Ir...</td>\n",
              "      <td>{'neg': 0.0, 'neu': 0.811, 'pos': 0.189, 'comp...</td>\n",
              "    </tr>\n",
              "    <tr>\n",
              "      <th>99</th>\n",
              "      <td>RT @emraanhashmi: The first shot that I witnes...</td>\n",
              "      <td>The first shot that witnessed asst director wa...</td>\n",
              "      <td>The first shot that witnessed asst director wa...</td>\n",
              "      <td>{'neg': 0.0, 'neu': 0.765, 'pos': 0.235, 'comp...</td>\n",
              "    </tr>\n",
              "  </tbody>\n",
              "</table>\n",
              "<p>100 rows × 4 columns</p>\n",
              "</div>"
            ],
            "text/plain": [
              "                                               Tweets  ...                                           polarity\n",
              "0   RT @PrakashJavdekar: Irfan Khan was a versatil...  ...  {'neg': 0.062, 'neu': 0.622, 'pos': 0.316, 'co...\n",
              "1   RT @LahriSunil: Very sad to hear sudden demise...  ...  {'neg': 0.123, 'neu': 0.652, 'pos': 0.225, 'co...\n",
              "2   @AmitShah Anguished over the sad news of Irfan...  ...  {'neg': 0.296, 'neu': 0.704, 'pos': 0.0, 'comp...\n",
              "3   RT @AmitShah: Anguished over the sad news of I...  ...  {'neg': 0.238, 'neu': 0.645, 'pos': 0.117, 'co...\n",
              "4   প্রয়াত Irfan Khan sir, One of my favorite act...  ...  {'neg': 0.0, 'neu': 0.824, 'pos': 0.176, 'comp...\n",
              "..                                                ...  ...                                                ...\n",
              "95  RT @Gul_3_Lala: Irfan khan died due to cancer ...  ...  {'neg': 0.407, 'neu': 0.491, 'pos': 0.102, 'co...\n",
              "96  https://t.co/eKQ15bYYaz\\n#RIPIrrfanKhan\\n#irfa...  ...  {'neg': 0.0, 'neu': 1.0, 'pos': 0.0, 'compound...\n",
              "97  Twitterati, please stop tagging Irfan Pathan, ...  ...  {'neg': 0.133, 'neu': 0.727, 'pos': 0.139, 'co...\n",
              "98  Inna’alilahi Wa Inna’alilahi Ra’ajioon... \\nRe...  ...  {'neg': 0.0, 'neu': 0.811, 'pos': 0.189, 'comp...\n",
              "99  RT @emraanhashmi: The first shot that I witnes...  ...  {'neg': 0.0, 'neu': 0.765, 'pos': 0.235, 'comp...\n",
              "\n",
              "[100 rows x 4 columns]"
            ]
          },
          "metadata": {
            "tags": []
          }
        }
      ]
    },
    {
      "cell_type": "code",
      "metadata": {
        "id": "ozERQPypw5rd",
        "colab_type": "code",
        "colab": {
          "base_uri": "https://localhost:8080/",
          "height": 129
        },
        "outputId": "6a5461ac-0901-4d3a-efd8-995c1b340185"
      },
      "source": [
        "#  tokenize all the cleaned tweets in our dataset\n",
        "tokenized_tweet = data['tidy_tweet'].apply(lambda x: x.split())\n",
        "\n",
        "tokenized_tweet.head()"
      ],
      "execution_count": 56,
      "outputs": [
        {
          "output_type": "execute_result",
          "data": {
            "text/plain": [
              "0    [What, was, your, favourite, Film, character, ...\n",
              "1    [One, favourite, actor, Rest, Peace, Irfan, Khan]\n",
              "2    [Such, sad, sad, news, Actor, Irfan, Khan, pas...\n",
              "3    [artist, who, was, blessed, God, like, Bali, t...\n",
              "4    [Heartbreaking, hear, about, Irfan, Khan, deat...\n",
              "Name: tidy_tweet, dtype: object"
            ]
          },
          "metadata": {
            "tags": []
          },
          "execution_count": 56
        }
      ]
    }
  ]
}